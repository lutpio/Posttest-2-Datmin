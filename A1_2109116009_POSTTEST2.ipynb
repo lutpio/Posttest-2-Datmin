{
  "nbformat": 4,
  "nbformat_minor": 0,
  "metadata": {
    "colab": {
      "provenance": [],
      "collapsed_sections": [
        "-0zOQSl3wlwj",
        "wEgfTlH7xlgG",
        "j0q6Vjp8mz10",
        "jHoRqI10PAYh",
        "5owoeveyPdmI",
        "0_qbLVLtV6I1",
        "Yr7BiZnkWJ19",
        "J-wYvskhargK",
        "QseALKEPg9ke",
        "BAOSiWfUA6Lt"
      ],
      "include_colab_link": true
    },
    "kernelspec": {
      "name": "python3",
      "display_name": "Python 3"
    },
    "language_info": {
      "name": "python"
    }
  },
  "cells": [
    {
      "cell_type": "markdown",
      "metadata": {
        "id": "view-in-github",
        "colab_type": "text"
      },
      "source": [
        "<a href=\"https://colab.research.google.com/github/lutpio/Posttest-2-Datmin/blob/main/A1_2109116009_POSTTEST2.ipynb\" target=\"_parent\"><img src=\"https://colab.research.google.com/assets/colab-badge.svg\" alt=\"Open In Colab\"/></a>"
      ]
    },
    {
      "cell_type": "markdown",
      "source": [
        "#Import"
      ],
      "metadata": {
        "id": "4ocqo8QINCpt"
      }
    },
    {
      "cell_type": "code",
      "source": [
        "import pandas as pd\n",
        "import seaborn as sns\n",
        "import plotly.express as px\n",
        "from itertools import permutations"
      ],
      "metadata": {
        "id": "-2Q4qmQZ8kzH"
      },
      "execution_count": 120,
      "outputs": []
    },
    {
      "cell_type": "markdown",
      "source": [
        "# (1) Apriori"
      ],
      "metadata": {
        "id": "-0zOQSl3wlwj"
      }
    },
    {
      "cell_type": "markdown",
      "source": [
        "Gunakan dataset ini : https://drive.google.com/file/d/1BqC-2d1ZYqFIFwdjdsW5bAAqNFh2AO4C/view?usp=share_link\n",
        "\n",
        "Dan buatlah daftar support dan confidence untuk 2 item set dengan menggunakan dataset tersebut (hint : buatlah tabel tabulasi terlebih dahulu untuk memudahkan)"
      ],
      "metadata": {
        "id": "h-to2rkExJxa"
      }
    },
    {
      "cell_type": "code",
      "source": [
        "df = pd.read_excel(\"dataset_market_basket.xlsx\",sheet_name=\"Sheet1\")"
      ],
      "metadata": {
        "id": "aZ_WiDW67524"
      },
      "execution_count": 121,
      "outputs": []
    },
    {
      "cell_type": "code",
      "source": [
        "df"
      ],
      "metadata": {
        "colab": {
          "base_uri": "https://localhost:8080/",
          "height": 773
        },
        "id": "tliuXz507-Nu",
        "outputId": "5397a2c2-fabe-4e96-ad51-bb24f6db5794"
      },
      "execution_count": 122,
      "outputs": [
        {
          "output_type": "execute_result",
          "data": {
            "text/plain": [
              "    whole milk  pastry  salty snack  sausage  semi-finished bread  yogurt  \\\n",
              "0            1       1            1        0                    0       0   \n",
              "1            1       0            0        1                    1       1   \n",
              "2            0       0            0        0                    0       0   \n",
              "3            0       0            0        0                    0       0   \n",
              "4            0       0            0        1                    0       0   \n",
              "5            1       0            0        1                    0       0   \n",
              "6            1       0            0        0                    0       0   \n",
              "7            0       0            0        0                    0       0   \n",
              "8            0       0            0        0                    0       0   \n",
              "9            0       0            0        0                    0       0   \n",
              "10           1       0            0        0                    0       0   \n",
              "11           0       0            0        0                    0       0   \n",
              "12           0       0            0        0                    0       0   \n",
              "13           0       0            0        0                    0       0   \n",
              "14           0       0            0        0                    0       0   \n",
              "15           0       0            0        0                    0       0   \n",
              "16           0       0            0        0                    0       0   \n",
              "17           0       0            0        1                    0       0   \n",
              "18           0       0            0        0                    0       0   \n",
              "\n",
              "    soda  pickled vegatables  canned beer  misc. beverages  ...  \\\n",
              "0      0                   0            0                0  ...   \n",
              "1      0                   0            0                0  ...   \n",
              "2      1                   1            0                0  ...   \n",
              "3      0                   0            1                1  ...   \n",
              "4      0                   0            0                0  ...   \n",
              "5      0                   0            0                0  ...   \n",
              "6      1                   0            0                0  ...   \n",
              "7      1                   0            0                0  ...   \n",
              "8      0                   0            0                0  ...   \n",
              "9      0                   0            0                0  ...   \n",
              "10     0                   0            0                0  ...   \n",
              "11     0                   0            0                0  ...   \n",
              "12     0                   0            0                0  ...   \n",
              "13     0                   0            0                0  ...   \n",
              "14     0                   0            0                0  ...   \n",
              "15     0                   0            0                0  ...   \n",
              "16     0                   0            0                0  ...   \n",
              "17     0                   0            0                0  ...   \n",
              "18     0                   0            0                0  ...   \n",
              "\n",
              "    tropical fruit  sugar  butter milk  specialty chocolate  frozen meals  \\\n",
              "0                0      0            0                    0             0   \n",
              "1                0      0            0                    0             0   \n",
              "2                0      0            0                    0             0   \n",
              "3                0      0            0                    0             0   \n",
              "4                0      0            0                    0             0   \n",
              "5                0      0            0                    0             0   \n",
              "6                0      0            0                    0             0   \n",
              "7                0      0            0                    0             0   \n",
              "8                0      0            0                    0             0   \n",
              "9                0      0            0                    0             0   \n",
              "10               0      0            0                    0             0   \n",
              "11               0      0            0                    0             0   \n",
              "12               1      1            0                    0             0   \n",
              "13               0      0            1                    1             0   \n",
              "14               0      0            0                    0             1   \n",
              "15               0      0            0                    0             0   \n",
              "16               0      0            0                    0             0   \n",
              "17               0      0            0                    0             0   \n",
              "18               0      0            0                    0             0   \n",
              "\n",
              "    dental care  root vegetables  detergent  dish cleaner  cling film/bags  \n",
              "0             0                0          0             0                0  \n",
              "1             0                0          0             0                0  \n",
              "2             0                0          0             0                0  \n",
              "3             0                0          0             0                0  \n",
              "4             0                0          0             0                0  \n",
              "5             0                0          0             0                0  \n",
              "6             0                0          0             0                0  \n",
              "7             0                0          0             0                0  \n",
              "8             0                0          0             0                0  \n",
              "9             0                0          0             0                0  \n",
              "10            0                0          0             0                0  \n",
              "11            0                0          0             0                0  \n",
              "12            0                0          0             0                0  \n",
              "13            0                0          0             0                0  \n",
              "14            1                0          0             0                0  \n",
              "15            0                0          0             0                0  \n",
              "16            0                1          1             0                0  \n",
              "17            0                0          0             0                0  \n",
              "18            0                0          0             1                1  \n",
              "\n",
              "[19 rows x 30 columns]"
            ],
            "text/html": [
              "\n",
              "  <div id=\"df-7a7eaa9a-9b2f-4a10-b046-7175315b9848\">\n",
              "    <div class=\"colab-df-container\">\n",
              "      <div>\n",
              "<style scoped>\n",
              "    .dataframe tbody tr th:only-of-type {\n",
              "        vertical-align: middle;\n",
              "    }\n",
              "\n",
              "    .dataframe tbody tr th {\n",
              "        vertical-align: top;\n",
              "    }\n",
              "\n",
              "    .dataframe thead th {\n",
              "        text-align: right;\n",
              "    }\n",
              "</style>\n",
              "<table border=\"1\" class=\"dataframe\">\n",
              "  <thead>\n",
              "    <tr style=\"text-align: right;\">\n",
              "      <th></th>\n",
              "      <th>whole milk</th>\n",
              "      <th>pastry</th>\n",
              "      <th>salty snack</th>\n",
              "      <th>sausage</th>\n",
              "      <th>semi-finished bread</th>\n",
              "      <th>yogurt</th>\n",
              "      <th>soda</th>\n",
              "      <th>pickled vegatables</th>\n",
              "      <th>canned beer</th>\n",
              "      <th>misc. beverages</th>\n",
              "      <th>...</th>\n",
              "      <th>tropical fruit</th>\n",
              "      <th>sugar</th>\n",
              "      <th>butter milk</th>\n",
              "      <th>specialty chocolate</th>\n",
              "      <th>frozen meals</th>\n",
              "      <th>dental care</th>\n",
              "      <th>root vegetables</th>\n",
              "      <th>detergent</th>\n",
              "      <th>dish cleaner</th>\n",
              "      <th>cling film/bags</th>\n",
              "    </tr>\n",
              "  </thead>\n",
              "  <tbody>\n",
              "    <tr>\n",
              "      <th>0</th>\n",
              "      <td>1</td>\n",
              "      <td>1</td>\n",
              "      <td>1</td>\n",
              "      <td>0</td>\n",
              "      <td>0</td>\n",
              "      <td>0</td>\n",
              "      <td>0</td>\n",
              "      <td>0</td>\n",
              "      <td>0</td>\n",
              "      <td>0</td>\n",
              "      <td>...</td>\n",
              "      <td>0</td>\n",
              "      <td>0</td>\n",
              "      <td>0</td>\n",
              "      <td>0</td>\n",
              "      <td>0</td>\n",
              "      <td>0</td>\n",
              "      <td>0</td>\n",
              "      <td>0</td>\n",
              "      <td>0</td>\n",
              "      <td>0</td>\n",
              "    </tr>\n",
              "    <tr>\n",
              "      <th>1</th>\n",
              "      <td>1</td>\n",
              "      <td>0</td>\n",
              "      <td>0</td>\n",
              "      <td>1</td>\n",
              "      <td>1</td>\n",
              "      <td>1</td>\n",
              "      <td>0</td>\n",
              "      <td>0</td>\n",
              "      <td>0</td>\n",
              "      <td>0</td>\n",
              "      <td>...</td>\n",
              "      <td>0</td>\n",
              "      <td>0</td>\n",
              "      <td>0</td>\n",
              "      <td>0</td>\n",
              "      <td>0</td>\n",
              "      <td>0</td>\n",
              "      <td>0</td>\n",
              "      <td>0</td>\n",
              "      <td>0</td>\n",
              "      <td>0</td>\n",
              "    </tr>\n",
              "    <tr>\n",
              "      <th>2</th>\n",
              "      <td>0</td>\n",
              "      <td>0</td>\n",
              "      <td>0</td>\n",
              "      <td>0</td>\n",
              "      <td>0</td>\n",
              "      <td>0</td>\n",
              "      <td>1</td>\n",
              "      <td>1</td>\n",
              "      <td>0</td>\n",
              "      <td>0</td>\n",
              "      <td>...</td>\n",
              "      <td>0</td>\n",
              "      <td>0</td>\n",
              "      <td>0</td>\n",
              "      <td>0</td>\n",
              "      <td>0</td>\n",
              "      <td>0</td>\n",
              "      <td>0</td>\n",
              "      <td>0</td>\n",
              "      <td>0</td>\n",
              "      <td>0</td>\n",
              "    </tr>\n",
              "    <tr>\n",
              "      <th>3</th>\n",
              "      <td>0</td>\n",
              "      <td>0</td>\n",
              "      <td>0</td>\n",
              "      <td>0</td>\n",
              "      <td>0</td>\n",
              "      <td>0</td>\n",
              "      <td>0</td>\n",
              "      <td>0</td>\n",
              "      <td>1</td>\n",
              "      <td>1</td>\n",
              "      <td>...</td>\n",
              "      <td>0</td>\n",
              "      <td>0</td>\n",
              "      <td>0</td>\n",
              "      <td>0</td>\n",
              "      <td>0</td>\n",
              "      <td>0</td>\n",
              "      <td>0</td>\n",
              "      <td>0</td>\n",
              "      <td>0</td>\n",
              "      <td>0</td>\n",
              "    </tr>\n",
              "    <tr>\n",
              "      <th>4</th>\n",
              "      <td>0</td>\n",
              "      <td>0</td>\n",
              "      <td>0</td>\n",
              "      <td>1</td>\n",
              "      <td>0</td>\n",
              "      <td>0</td>\n",
              "      <td>0</td>\n",
              "      <td>0</td>\n",
              "      <td>0</td>\n",
              "      <td>0</td>\n",
              "      <td>...</td>\n",
              "      <td>0</td>\n",
              "      <td>0</td>\n",
              "      <td>0</td>\n",
              "      <td>0</td>\n",
              "      <td>0</td>\n",
              "      <td>0</td>\n",
              "      <td>0</td>\n",
              "      <td>0</td>\n",
              "      <td>0</td>\n",
              "      <td>0</td>\n",
              "    </tr>\n",
              "    <tr>\n",
              "      <th>5</th>\n",
              "      <td>1</td>\n",
              "      <td>0</td>\n",
              "      <td>0</td>\n",
              "      <td>1</td>\n",
              "      <td>0</td>\n",
              "      <td>0</td>\n",
              "      <td>0</td>\n",
              "      <td>0</td>\n",
              "      <td>0</td>\n",
              "      <td>0</td>\n",
              "      <td>...</td>\n",
              "      <td>0</td>\n",
              "      <td>0</td>\n",
              "      <td>0</td>\n",
              "      <td>0</td>\n",
              "      <td>0</td>\n",
              "      <td>0</td>\n",
              "      <td>0</td>\n",
              "      <td>0</td>\n",
              "      <td>0</td>\n",
              "      <td>0</td>\n",
              "    </tr>\n",
              "    <tr>\n",
              "      <th>6</th>\n",
              "      <td>1</td>\n",
              "      <td>0</td>\n",
              "      <td>0</td>\n",
              "      <td>0</td>\n",
              "      <td>0</td>\n",
              "      <td>0</td>\n",
              "      <td>1</td>\n",
              "      <td>0</td>\n",
              "      <td>0</td>\n",
              "      <td>0</td>\n",
              "      <td>...</td>\n",
              "      <td>0</td>\n",
              "      <td>0</td>\n",
              "      <td>0</td>\n",
              "      <td>0</td>\n",
              "      <td>0</td>\n",
              "      <td>0</td>\n",
              "      <td>0</td>\n",
              "      <td>0</td>\n",
              "      <td>0</td>\n",
              "      <td>0</td>\n",
              "    </tr>\n",
              "    <tr>\n",
              "      <th>7</th>\n",
              "      <td>0</td>\n",
              "      <td>0</td>\n",
              "      <td>0</td>\n",
              "      <td>0</td>\n",
              "      <td>0</td>\n",
              "      <td>0</td>\n",
              "      <td>1</td>\n",
              "      <td>0</td>\n",
              "      <td>0</td>\n",
              "      <td>0</td>\n",
              "      <td>...</td>\n",
              "      <td>0</td>\n",
              "      <td>0</td>\n",
              "      <td>0</td>\n",
              "      <td>0</td>\n",
              "      <td>0</td>\n",
              "      <td>0</td>\n",
              "      <td>0</td>\n",
              "      <td>0</td>\n",
              "      <td>0</td>\n",
              "      <td>0</td>\n",
              "    </tr>\n",
              "    <tr>\n",
              "      <th>8</th>\n",
              "      <td>0</td>\n",
              "      <td>0</td>\n",
              "      <td>0</td>\n",
              "      <td>0</td>\n",
              "      <td>0</td>\n",
              "      <td>0</td>\n",
              "      <td>0</td>\n",
              "      <td>0</td>\n",
              "      <td>0</td>\n",
              "      <td>0</td>\n",
              "      <td>...</td>\n",
              "      <td>0</td>\n",
              "      <td>0</td>\n",
              "      <td>0</td>\n",
              "      <td>0</td>\n",
              "      <td>0</td>\n",
              "      <td>0</td>\n",
              "      <td>0</td>\n",
              "      <td>0</td>\n",
              "      <td>0</td>\n",
              "      <td>0</td>\n",
              "    </tr>\n",
              "    <tr>\n",
              "      <th>9</th>\n",
              "      <td>0</td>\n",
              "      <td>0</td>\n",
              "      <td>0</td>\n",
              "      <td>0</td>\n",
              "      <td>0</td>\n",
              "      <td>0</td>\n",
              "      <td>0</td>\n",
              "      <td>0</td>\n",
              "      <td>0</td>\n",
              "      <td>0</td>\n",
              "      <td>...</td>\n",
              "      <td>0</td>\n",
              "      <td>0</td>\n",
              "      <td>0</td>\n",
              "      <td>0</td>\n",
              "      <td>0</td>\n",
              "      <td>0</td>\n",
              "      <td>0</td>\n",
              "      <td>0</td>\n",
              "      <td>0</td>\n",
              "      <td>0</td>\n",
              "    </tr>\n",
              "    <tr>\n",
              "      <th>10</th>\n",
              "      <td>1</td>\n",
              "      <td>0</td>\n",
              "      <td>0</td>\n",
              "      <td>0</td>\n",
              "      <td>0</td>\n",
              "      <td>0</td>\n",
              "      <td>0</td>\n",
              "      <td>0</td>\n",
              "      <td>0</td>\n",
              "      <td>0</td>\n",
              "      <td>...</td>\n",
              "      <td>0</td>\n",
              "      <td>0</td>\n",
              "      <td>0</td>\n",
              "      <td>0</td>\n",
              "      <td>0</td>\n",
              "      <td>0</td>\n",
              "      <td>0</td>\n",
              "      <td>0</td>\n",
              "      <td>0</td>\n",
              "      <td>0</td>\n",
              "    </tr>\n",
              "    <tr>\n",
              "      <th>11</th>\n",
              "      <td>0</td>\n",
              "      <td>0</td>\n",
              "      <td>0</td>\n",
              "      <td>0</td>\n",
              "      <td>0</td>\n",
              "      <td>0</td>\n",
              "      <td>0</td>\n",
              "      <td>0</td>\n",
              "      <td>0</td>\n",
              "      <td>0</td>\n",
              "      <td>...</td>\n",
              "      <td>0</td>\n",
              "      <td>0</td>\n",
              "      <td>0</td>\n",
              "      <td>0</td>\n",
              "      <td>0</td>\n",
              "      <td>0</td>\n",
              "      <td>0</td>\n",
              "      <td>0</td>\n",
              "      <td>0</td>\n",
              "      <td>0</td>\n",
              "    </tr>\n",
              "    <tr>\n",
              "      <th>12</th>\n",
              "      <td>0</td>\n",
              "      <td>0</td>\n",
              "      <td>0</td>\n",
              "      <td>0</td>\n",
              "      <td>0</td>\n",
              "      <td>0</td>\n",
              "      <td>0</td>\n",
              "      <td>0</td>\n",
              "      <td>0</td>\n",
              "      <td>0</td>\n",
              "      <td>...</td>\n",
              "      <td>1</td>\n",
              "      <td>1</td>\n",
              "      <td>0</td>\n",
              "      <td>0</td>\n",
              "      <td>0</td>\n",
              "      <td>0</td>\n",
              "      <td>0</td>\n",
              "      <td>0</td>\n",
              "      <td>0</td>\n",
              "      <td>0</td>\n",
              "    </tr>\n",
              "    <tr>\n",
              "      <th>13</th>\n",
              "      <td>0</td>\n",
              "      <td>0</td>\n",
              "      <td>0</td>\n",
              "      <td>0</td>\n",
              "      <td>0</td>\n",
              "      <td>0</td>\n",
              "      <td>0</td>\n",
              "      <td>0</td>\n",
              "      <td>0</td>\n",
              "      <td>0</td>\n",
              "      <td>...</td>\n",
              "      <td>0</td>\n",
              "      <td>0</td>\n",
              "      <td>1</td>\n",
              "      <td>1</td>\n",
              "      <td>0</td>\n",
              "      <td>0</td>\n",
              "      <td>0</td>\n",
              "      <td>0</td>\n",
              "      <td>0</td>\n",
              "      <td>0</td>\n",
              "    </tr>\n",
              "    <tr>\n",
              "      <th>14</th>\n",
              "      <td>0</td>\n",
              "      <td>0</td>\n",
              "      <td>0</td>\n",
              "      <td>0</td>\n",
              "      <td>0</td>\n",
              "      <td>0</td>\n",
              "      <td>0</td>\n",
              "      <td>0</td>\n",
              "      <td>0</td>\n",
              "      <td>0</td>\n",
              "      <td>...</td>\n",
              "      <td>0</td>\n",
              "      <td>0</td>\n",
              "      <td>0</td>\n",
              "      <td>0</td>\n",
              "      <td>1</td>\n",
              "      <td>1</td>\n",
              "      <td>0</td>\n",
              "      <td>0</td>\n",
              "      <td>0</td>\n",
              "      <td>0</td>\n",
              "    </tr>\n",
              "    <tr>\n",
              "      <th>15</th>\n",
              "      <td>0</td>\n",
              "      <td>0</td>\n",
              "      <td>0</td>\n",
              "      <td>0</td>\n",
              "      <td>0</td>\n",
              "      <td>0</td>\n",
              "      <td>0</td>\n",
              "      <td>0</td>\n",
              "      <td>0</td>\n",
              "      <td>0</td>\n",
              "      <td>...</td>\n",
              "      <td>0</td>\n",
              "      <td>0</td>\n",
              "      <td>0</td>\n",
              "      <td>0</td>\n",
              "      <td>0</td>\n",
              "      <td>0</td>\n",
              "      <td>0</td>\n",
              "      <td>0</td>\n",
              "      <td>0</td>\n",
              "      <td>0</td>\n",
              "    </tr>\n",
              "    <tr>\n",
              "      <th>16</th>\n",
              "      <td>0</td>\n",
              "      <td>0</td>\n",
              "      <td>0</td>\n",
              "      <td>0</td>\n",
              "      <td>0</td>\n",
              "      <td>0</td>\n",
              "      <td>0</td>\n",
              "      <td>0</td>\n",
              "      <td>0</td>\n",
              "      <td>0</td>\n",
              "      <td>...</td>\n",
              "      <td>0</td>\n",
              "      <td>0</td>\n",
              "      <td>0</td>\n",
              "      <td>0</td>\n",
              "      <td>0</td>\n",
              "      <td>0</td>\n",
              "      <td>1</td>\n",
              "      <td>1</td>\n",
              "      <td>0</td>\n",
              "      <td>0</td>\n",
              "    </tr>\n",
              "    <tr>\n",
              "      <th>17</th>\n",
              "      <td>0</td>\n",
              "      <td>0</td>\n",
              "      <td>0</td>\n",
              "      <td>1</td>\n",
              "      <td>0</td>\n",
              "      <td>0</td>\n",
              "      <td>0</td>\n",
              "      <td>0</td>\n",
              "      <td>0</td>\n",
              "      <td>0</td>\n",
              "      <td>...</td>\n",
              "      <td>0</td>\n",
              "      <td>0</td>\n",
              "      <td>0</td>\n",
              "      <td>0</td>\n",
              "      <td>0</td>\n",
              "      <td>0</td>\n",
              "      <td>0</td>\n",
              "      <td>0</td>\n",
              "      <td>0</td>\n",
              "      <td>0</td>\n",
              "    </tr>\n",
              "    <tr>\n",
              "      <th>18</th>\n",
              "      <td>0</td>\n",
              "      <td>0</td>\n",
              "      <td>0</td>\n",
              "      <td>0</td>\n",
              "      <td>0</td>\n",
              "      <td>0</td>\n",
              "      <td>0</td>\n",
              "      <td>0</td>\n",
              "      <td>0</td>\n",
              "      <td>0</td>\n",
              "      <td>...</td>\n",
              "      <td>0</td>\n",
              "      <td>0</td>\n",
              "      <td>0</td>\n",
              "      <td>0</td>\n",
              "      <td>0</td>\n",
              "      <td>0</td>\n",
              "      <td>0</td>\n",
              "      <td>0</td>\n",
              "      <td>1</td>\n",
              "      <td>1</td>\n",
              "    </tr>\n",
              "  </tbody>\n",
              "</table>\n",
              "<p>19 rows × 30 columns</p>\n",
              "</div>\n",
              "      <button class=\"colab-df-convert\" onclick=\"convertToInteractive('df-7a7eaa9a-9b2f-4a10-b046-7175315b9848')\"\n",
              "              title=\"Convert this dataframe to an interactive table.\"\n",
              "              style=\"display:none;\">\n",
              "        \n",
              "  <svg xmlns=\"http://www.w3.org/2000/svg\" height=\"24px\"viewBox=\"0 0 24 24\"\n",
              "       width=\"24px\">\n",
              "    <path d=\"M0 0h24v24H0V0z\" fill=\"none\"/>\n",
              "    <path d=\"M18.56 5.44l.94 2.06.94-2.06 2.06-.94-2.06-.94-.94-2.06-.94 2.06-2.06.94zm-11 1L8.5 8.5l.94-2.06 2.06-.94-2.06-.94L8.5 2.5l-.94 2.06-2.06.94zm10 10l.94 2.06.94-2.06 2.06-.94-2.06-.94-.94-2.06-.94 2.06-2.06.94z\"/><path d=\"M17.41 7.96l-1.37-1.37c-.4-.4-.92-.59-1.43-.59-.52 0-1.04.2-1.43.59L10.3 9.45l-7.72 7.72c-.78.78-.78 2.05 0 2.83L4 21.41c.39.39.9.59 1.41.59.51 0 1.02-.2 1.41-.59l7.78-7.78 2.81-2.81c.8-.78.8-2.07 0-2.86zM5.41 20L4 18.59l7.72-7.72 1.47 1.35L5.41 20z\"/>\n",
              "  </svg>\n",
              "      </button>\n",
              "      \n",
              "  <style>\n",
              "    .colab-df-container {\n",
              "      display:flex;\n",
              "      flex-wrap:wrap;\n",
              "      gap: 12px;\n",
              "    }\n",
              "\n",
              "    .colab-df-convert {\n",
              "      background-color: #E8F0FE;\n",
              "      border: none;\n",
              "      border-radius: 50%;\n",
              "      cursor: pointer;\n",
              "      display: none;\n",
              "      fill: #1967D2;\n",
              "      height: 32px;\n",
              "      padding: 0 0 0 0;\n",
              "      width: 32px;\n",
              "    }\n",
              "\n",
              "    .colab-df-convert:hover {\n",
              "      background-color: #E2EBFA;\n",
              "      box-shadow: 0px 1px 2px rgba(60, 64, 67, 0.3), 0px 1px 3px 1px rgba(60, 64, 67, 0.15);\n",
              "      fill: #174EA6;\n",
              "    }\n",
              "\n",
              "    [theme=dark] .colab-df-convert {\n",
              "      background-color: #3B4455;\n",
              "      fill: #D2E3FC;\n",
              "    }\n",
              "\n",
              "    [theme=dark] .colab-df-convert:hover {\n",
              "      background-color: #434B5C;\n",
              "      box-shadow: 0px 1px 3px 1px rgba(0, 0, 0, 0.15);\n",
              "      filter: drop-shadow(0px 1px 2px rgba(0, 0, 0, 0.3));\n",
              "      fill: #FFFFFF;\n",
              "    }\n",
              "  </style>\n",
              "\n",
              "      <script>\n",
              "        const buttonEl =\n",
              "          document.querySelector('#df-7a7eaa9a-9b2f-4a10-b046-7175315b9848 button.colab-df-convert');\n",
              "        buttonEl.style.display =\n",
              "          google.colab.kernel.accessAllowed ? 'block' : 'none';\n",
              "\n",
              "        async function convertToInteractive(key) {\n",
              "          const element = document.querySelector('#df-7a7eaa9a-9b2f-4a10-b046-7175315b9848');\n",
              "          const dataTable =\n",
              "            await google.colab.kernel.invokeFunction('convertToInteractive',\n",
              "                                                     [key], {});\n",
              "          if (!dataTable) return;\n",
              "\n",
              "          const docLinkHtml = 'Like what you see? Visit the ' +\n",
              "            '<a target=\"_blank\" href=https://colab.research.google.com/notebooks/data_table.ipynb>data table notebook</a>'\n",
              "            + ' to learn more about interactive tables.';\n",
              "          element.innerHTML = '';\n",
              "          dataTable['output_type'] = 'display_data';\n",
              "          await google.colab.output.renderOutput(dataTable, element);\n",
              "          const docLink = document.createElement('div');\n",
              "          docLink.innerHTML = docLinkHtml;\n",
              "          element.appendChild(docLink);\n",
              "        }\n",
              "      </script>\n",
              "    </div>\n",
              "  </div>\n",
              "  "
            ]
          },
          "metadata": {},
          "execution_count": 122
        }
      ]
    },
    {
      "cell_type": "markdown",
      "source": [
        "##Menghitung berapa banyak 1 item dibeli"
      ],
      "metadata": {
        "id": "5n67YcljEkoe"
      }
    },
    {
      "cell_type": "code",
      "source": [
        "df.sum()"
      ],
      "metadata": {
        "id": "09HukWpEMfJa",
        "colab": {
          "base_uri": "https://localhost:8080/"
        },
        "outputId": "ae781ef3-4a74-4a40-83a2-1192a447479e"
      },
      "execution_count": 123,
      "outputs": [
        {
          "output_type": "execute_result",
          "data": {
            "text/plain": [
              "whole milk             5\n",
              "pastry                 1\n",
              "salty snack            1\n",
              "sausage                4\n",
              "semi-finished bread    1\n",
              "yogurt                 1\n",
              "soda                   3\n",
              "pickled vegatables     1\n",
              "canned beer            1\n",
              "misc. beverages        1\n",
              "hygiene articles       1\n",
              "rolls/buns             3\n",
              "frankfurter            2\n",
              "whipped/sour cream     1\n",
              "curd                   1\n",
              "beef                   1\n",
              "white bread            1\n",
              "butter                 1\n",
              "frozen vegetables      1\n",
              "other vegetables       1\n",
              "tropical fruit         1\n",
              "sugar                  1\n",
              "butter milk            1\n",
              "specialty chocolate    1\n",
              "frozen meals           1\n",
              "dental care            1\n",
              "root vegetables        1\n",
              "detergent              1\n",
              "dish cleaner           1\n",
              "cling film/bags        1\n",
              "dtype: int64"
            ]
          },
          "metadata": {},
          "execution_count": 123
        }
      ]
    },
    {
      "cell_type": "markdown",
      "source": [
        "##Mencari dan menampilkan berapa banyak item dengan yang memiliki kombinasi dengan item lain"
      ],
      "metadata": {
        "id": "pz2h6mVPE1oG"
      }
    },
    {
      "cell_type": "code",
      "source": [
        "rules = list(permutations(df.columns, 2))\n",
        "rule_baru = []\n",
        "for rule in rules:\n",
        "  # Memfilter dengan nama kolom\n",
        "  if len(df[(df[rule[0]]==1) & (df[rule[1]]==1)]) >0:\n",
        "    rule_baru.append(rule)# mencari kombinasi item yang tidak 0 / kosong \n",
        "\n",
        "\n",
        "\n",
        "hitung = {} #Ganti dictionary\n",
        "for rule in rule_baru:\n",
        "  banyak_data= len(df[\n",
        "      (df[rule[0]]==1) & (df[rule[1]]==1)\n",
        "      ])\n",
        "  hitung[str(rule)] = banyak_data\n",
        "# dict hitung, berisi kombinasi yang muncul dan jumlah munculnya kombinasi tersebut \n",
        "hitung"
      ],
      "metadata": {
        "id": "1FrxB0txNXIi",
        "colab": {
          "base_uri": "https://localhost:8080/"
        },
        "outputId": "aa6a7be8-3146-4584-ba45-9865fdeb5721"
      },
      "execution_count": 124,
      "outputs": [
        {
          "output_type": "execute_result",
          "data": {
            "text/plain": [
              "{\"('whole milk', 'pastry')\": 1,\n",
              " \"('whole milk', 'salty snack')\": 1,\n",
              " \"('whole milk', 'sausage')\": 2,\n",
              " \"('whole milk', 'semi-finished bread')\": 1,\n",
              " \"('whole milk', 'yogurt')\": 1,\n",
              " \"('whole milk', 'soda')\": 1,\n",
              " \"('whole milk', 'rolls/buns')\": 1,\n",
              " \"('whole milk', 'butter')\": 1,\n",
              " \"('pastry', 'whole milk')\": 1,\n",
              " \"('pastry', 'salty snack')\": 1,\n",
              " \"('salty snack', 'whole milk')\": 1,\n",
              " \"('salty snack', 'pastry')\": 1,\n",
              " \"('sausage', 'whole milk')\": 2,\n",
              " \"('sausage', 'semi-finished bread')\": 1,\n",
              " \"('sausage', 'yogurt')\": 1,\n",
              " \"('sausage', 'hygiene articles')\": 1,\n",
              " \"('sausage', 'rolls/buns')\": 2,\n",
              " \"('semi-finished bread', 'whole milk')\": 1,\n",
              " \"('semi-finished bread', 'sausage')\": 1,\n",
              " \"('semi-finished bread', 'yogurt')\": 1,\n",
              " \"('yogurt', 'whole milk')\": 1,\n",
              " \"('yogurt', 'sausage')\": 1,\n",
              " \"('yogurt', 'semi-finished bread')\": 1,\n",
              " \"('soda', 'whole milk')\": 1,\n",
              " \"('soda', 'pickled vegatables')\": 1,\n",
              " \"('soda', 'frankfurter')\": 1,\n",
              " \"('soda', 'whipped/sour cream')\": 1,\n",
              " \"('pickled vegatables', 'soda')\": 1,\n",
              " \"('canned beer', 'misc. beverages')\": 1,\n",
              " \"('misc. beverages', 'canned beer')\": 1,\n",
              " \"('hygiene articles', 'sausage')\": 1,\n",
              " \"('rolls/buns', 'whole milk')\": 1,\n",
              " \"('rolls/buns', 'sausage')\": 2,\n",
              " \"('frankfurter', 'soda')\": 1,\n",
              " \"('frankfurter', 'whipped/sour cream')\": 1,\n",
              " \"('frankfurter', 'curd')\": 1,\n",
              " \"('whipped/sour cream', 'soda')\": 1,\n",
              " \"('whipped/sour cream', 'frankfurter')\": 1,\n",
              " \"('curd', 'frankfurter')\": 1,\n",
              " \"('beef', 'white bread')\": 1,\n",
              " \"('white bread', 'beef')\": 1,\n",
              " \"('butter', 'whole milk')\": 1,\n",
              " \"('frozen vegetables', 'other vegetables')\": 1,\n",
              " \"('other vegetables', 'frozen vegetables')\": 1,\n",
              " \"('tropical fruit', 'sugar')\": 1,\n",
              " \"('sugar', 'tropical fruit')\": 1,\n",
              " \"('butter milk', 'specialty chocolate')\": 1,\n",
              " \"('specialty chocolate', 'butter milk')\": 1,\n",
              " \"('frozen meals', 'dental care')\": 1,\n",
              " \"('dental care', 'frozen meals')\": 1,\n",
              " \"('root vegetables', 'detergent')\": 1,\n",
              " \"('detergent', 'root vegetables')\": 1,\n",
              " \"('dish cleaner', 'cling film/bags')\": 1,\n",
              " \"('cling film/bags', 'dish cleaner')\": 1}"
            ]
          },
          "metadata": {},
          "execution_count": 124
        }
      ]
    },
    {
      "cell_type": "markdown",
      "source": [
        "##Menampilkan nilai Support kedua item"
      ],
      "metadata": {
        "id": "ldOXDAnPFL8t"
      }
    },
    {
      "cell_type": "code",
      "source": [
        "for item,ab in hitung.items():\n",
        "  print(f\"{item} support = {ab/len(df)*100}%\")"
      ],
      "metadata": {
        "id": "mp7mN1jlR5cg",
        "colab": {
          "base_uri": "https://localhost:8080/"
        },
        "outputId": "ba291d4e-a2f4-4363-fffc-5ba721d05a19"
      },
      "execution_count": 125,
      "outputs": [
        {
          "output_type": "stream",
          "name": "stdout",
          "text": [
            "('whole milk', 'pastry') support = 5.263157894736842%\n",
            "('whole milk', 'salty snack') support = 5.263157894736842%\n",
            "('whole milk', 'sausage') support = 10.526315789473683%\n",
            "('whole milk', 'semi-finished bread') support = 5.263157894736842%\n",
            "('whole milk', 'yogurt') support = 5.263157894736842%\n",
            "('whole milk', 'soda') support = 5.263157894736842%\n",
            "('whole milk', 'rolls/buns') support = 5.263157894736842%\n",
            "('whole milk', 'butter') support = 5.263157894736842%\n",
            "('pastry', 'whole milk') support = 5.263157894736842%\n",
            "('pastry', 'salty snack') support = 5.263157894736842%\n",
            "('salty snack', 'whole milk') support = 5.263157894736842%\n",
            "('salty snack', 'pastry') support = 5.263157894736842%\n",
            "('sausage', 'whole milk') support = 10.526315789473683%\n",
            "('sausage', 'semi-finished bread') support = 5.263157894736842%\n",
            "('sausage', 'yogurt') support = 5.263157894736842%\n",
            "('sausage', 'hygiene articles') support = 5.263157894736842%\n",
            "('sausage', 'rolls/buns') support = 10.526315789473683%\n",
            "('semi-finished bread', 'whole milk') support = 5.263157894736842%\n",
            "('semi-finished bread', 'sausage') support = 5.263157894736842%\n",
            "('semi-finished bread', 'yogurt') support = 5.263157894736842%\n",
            "('yogurt', 'whole milk') support = 5.263157894736842%\n",
            "('yogurt', 'sausage') support = 5.263157894736842%\n",
            "('yogurt', 'semi-finished bread') support = 5.263157894736842%\n",
            "('soda', 'whole milk') support = 5.263157894736842%\n",
            "('soda', 'pickled vegatables') support = 5.263157894736842%\n",
            "('soda', 'frankfurter') support = 5.263157894736842%\n",
            "('soda', 'whipped/sour cream') support = 5.263157894736842%\n",
            "('pickled vegatables', 'soda') support = 5.263157894736842%\n",
            "('canned beer', 'misc. beverages') support = 5.263157894736842%\n",
            "('misc. beverages', 'canned beer') support = 5.263157894736842%\n",
            "('hygiene articles', 'sausage') support = 5.263157894736842%\n",
            "('rolls/buns', 'whole milk') support = 5.263157894736842%\n",
            "('rolls/buns', 'sausage') support = 10.526315789473683%\n",
            "('frankfurter', 'soda') support = 5.263157894736842%\n",
            "('frankfurter', 'whipped/sour cream') support = 5.263157894736842%\n",
            "('frankfurter', 'curd') support = 5.263157894736842%\n",
            "('whipped/sour cream', 'soda') support = 5.263157894736842%\n",
            "('whipped/sour cream', 'frankfurter') support = 5.263157894736842%\n",
            "('curd', 'frankfurter') support = 5.263157894736842%\n",
            "('beef', 'white bread') support = 5.263157894736842%\n",
            "('white bread', 'beef') support = 5.263157894736842%\n",
            "('butter', 'whole milk') support = 5.263157894736842%\n",
            "('frozen vegetables', 'other vegetables') support = 5.263157894736842%\n",
            "('other vegetables', 'frozen vegetables') support = 5.263157894736842%\n",
            "('tropical fruit', 'sugar') support = 5.263157894736842%\n",
            "('sugar', 'tropical fruit') support = 5.263157894736842%\n",
            "('butter milk', 'specialty chocolate') support = 5.263157894736842%\n",
            "('specialty chocolate', 'butter milk') support = 5.263157894736842%\n",
            "('frozen meals', 'dental care') support = 5.263157894736842%\n",
            "('dental care', 'frozen meals') support = 5.263157894736842%\n",
            "('root vegetables', 'detergent') support = 5.263157894736842%\n",
            "('detergent', 'root vegetables') support = 5.263157894736842%\n",
            "('dish cleaner', 'cling film/bags') support = 5.263157894736842%\n",
            "('cling film/bags', 'dish cleaner') support = 5.263157894736842%\n"
          ]
        }
      ]
    },
    {
      "cell_type": "markdown",
      "source": [
        "##Menampilkan nilai Confidence dari kombinasi kemungkinan item"
      ],
      "metadata": {
        "id": "OYmMiE5EFtS2"
      }
    },
    {
      "cell_type": "code",
      "source": [
        "for item,ab in hitung.items():\n",
        "  #\"A->B\"\n",
        "  i = eval(item) #Ubah ke list dari string\n",
        "  print(f\"{i[0]}->{i[1]}  Confidence = {ab/df[i[0]].sum()*100}%\")"
      ],
      "metadata": {
        "id": "ZktO05JKWj4-",
        "colab": {
          "base_uri": "https://localhost:8080/"
        },
        "outputId": "5b893c57-1bb2-4258-a4c9-6d7c4aa01b08"
      },
      "execution_count": 126,
      "outputs": [
        {
          "output_type": "stream",
          "name": "stdout",
          "text": [
            "whole milk->pastry  Confidence = 20.0%\n",
            "whole milk->salty snack  Confidence = 20.0%\n",
            "whole milk->sausage  Confidence = 40.0%\n",
            "whole milk->semi-finished bread  Confidence = 20.0%\n",
            "whole milk->yogurt  Confidence = 20.0%\n",
            "whole milk->soda  Confidence = 20.0%\n",
            "whole milk->rolls/buns  Confidence = 20.0%\n",
            "whole milk->butter  Confidence = 20.0%\n",
            "pastry->whole milk  Confidence = 100.0%\n",
            "pastry->salty snack  Confidence = 100.0%\n",
            "salty snack->whole milk  Confidence = 100.0%\n",
            "salty snack->pastry  Confidence = 100.0%\n",
            "sausage->whole milk  Confidence = 50.0%\n",
            "sausage->semi-finished bread  Confidence = 25.0%\n",
            "sausage->yogurt  Confidence = 25.0%\n",
            "sausage->hygiene articles  Confidence = 25.0%\n",
            "sausage->rolls/buns  Confidence = 50.0%\n",
            "semi-finished bread->whole milk  Confidence = 100.0%\n",
            "semi-finished bread->sausage  Confidence = 100.0%\n",
            "semi-finished bread->yogurt  Confidence = 100.0%\n",
            "yogurt->whole milk  Confidence = 100.0%\n",
            "yogurt->sausage  Confidence = 100.0%\n",
            "yogurt->semi-finished bread  Confidence = 100.0%\n",
            "soda->whole milk  Confidence = 33.33333333333333%\n",
            "soda->pickled vegatables  Confidence = 33.33333333333333%\n",
            "soda->frankfurter  Confidence = 33.33333333333333%\n",
            "soda->whipped/sour cream  Confidence = 33.33333333333333%\n",
            "pickled vegatables->soda  Confidence = 100.0%\n",
            "canned beer->misc. beverages  Confidence = 100.0%\n",
            "misc. beverages->canned beer  Confidence = 100.0%\n",
            "hygiene articles->sausage  Confidence = 100.0%\n",
            "rolls/buns->whole milk  Confidence = 33.33333333333333%\n",
            "rolls/buns->sausage  Confidence = 66.66666666666666%\n",
            "frankfurter->soda  Confidence = 50.0%\n",
            "frankfurter->whipped/sour cream  Confidence = 50.0%\n",
            "frankfurter->curd  Confidence = 50.0%\n",
            "whipped/sour cream->soda  Confidence = 100.0%\n",
            "whipped/sour cream->frankfurter  Confidence = 100.0%\n",
            "curd->frankfurter  Confidence = 100.0%\n",
            "beef->white bread  Confidence = 100.0%\n",
            "white bread->beef  Confidence = 100.0%\n",
            "butter->whole milk  Confidence = 100.0%\n",
            "frozen vegetables->other vegetables  Confidence = 100.0%\n",
            "other vegetables->frozen vegetables  Confidence = 100.0%\n",
            "tropical fruit->sugar  Confidence = 100.0%\n",
            "sugar->tropical fruit  Confidence = 100.0%\n",
            "butter milk->specialty chocolate  Confidence = 100.0%\n",
            "specialty chocolate->butter milk  Confidence = 100.0%\n",
            "frozen meals->dental care  Confidence = 100.0%\n",
            "dental care->frozen meals  Confidence = 100.0%\n",
            "root vegetables->detergent  Confidence = 100.0%\n",
            "detergent->root vegetables  Confidence = 100.0%\n",
            "dish cleaner->cling film/bags  Confidence = 100.0%\n",
            "cling film/bags->dish cleaner  Confidence = 100.0%\n"
          ]
        }
      ]
    },
    {
      "cell_type": "markdown",
      "source": [
        "#(2) KNN\n",
        "\n",
        "Gunakan dataset ini : https://drive.google.com/file/d/1pXAJZZXCXosf0PTJkyogopKaPFxCYl22/view?usp=share_link\n",
        "\n",
        "Kemudian buatlah tabel jarak berdasarkan data berikut ini : \n",
        "\n",
        "![Gambar](data:image/png;base64,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)\n",
        "<!-- 1412 -->"
      ],
      "metadata": {
        "id": "wEgfTlH7xlgG"
      }
    },
    {
      "cell_type": "code",
      "source": [
        "deteksi = pd.read_csv('deteksi_uang_palsu.csv')"
      ],
      "metadata": {
        "id": "TwAEUKh-TBO5"
      },
      "execution_count": 127,
      "outputs": []
    },
    {
      "cell_type": "code",
      "source": [
        "deteksi"
      ],
      "metadata": {
        "id": "QivWx4aPUsiF",
        "outputId": "b3f17b1b-b9a2-4ed6-8e6c-17ea0c2afa57",
        "colab": {
          "base_uri": "https://localhost:8080/",
          "height": 363
        }
      },
      "execution_count": 128,
      "outputs": [
        {
          "output_type": "execute_result",
          "data": {
            "text/plain": [
              "   is_genuine  diagonal  height_left  height_right  margin_low  margin_up  \\\n",
              "0        True    172.06       104.24        103.66        4.24       3.10   \n",
              "1        True    171.66       103.68        103.41        4.35       3.33   \n",
              "2        True    172.23       104.00        103.35        4.43       2.95   \n",
              "3        True    172.07       104.21        103.82        4.29       3.35   \n",
              "4        True    171.79       104.57        104.04        4.26       3.15   \n",
              "5       False    172.00       104.23        104.52        5.76       3.37   \n",
              "6       False    171.56       104.03        103.93        5.47       3.50   \n",
              "7       False    171.90       104.33        104.40        4.70       3.31   \n",
              "8       False    171.84       104.06        104.10        4.87       3.25   \n",
              "9       False    172.11       104.14        104.15        4.84       3.28   \n",
              "\n",
              "   length  \n",
              "0  113.02  \n",
              "1  113.74  \n",
              "2  113.12  \n",
              "3  113.30  \n",
              "4  113.46  \n",
              "5  110.94  \n",
              "6  111.67  \n",
              "7  112.12  \n",
              "8  111.04  \n",
              "9  110.98  "
            ],
            "text/html": [
              "\n",
              "  <div id=\"df-15f9aee4-493c-4853-8def-6009984669bf\">\n",
              "    <div class=\"colab-df-container\">\n",
              "      <div>\n",
              "<style scoped>\n",
              "    .dataframe tbody tr th:only-of-type {\n",
              "        vertical-align: middle;\n",
              "    }\n",
              "\n",
              "    .dataframe tbody tr th {\n",
              "        vertical-align: top;\n",
              "    }\n",
              "\n",
              "    .dataframe thead th {\n",
              "        text-align: right;\n",
              "    }\n",
              "</style>\n",
              "<table border=\"1\" class=\"dataframe\">\n",
              "  <thead>\n",
              "    <tr style=\"text-align: right;\">\n",
              "      <th></th>\n",
              "      <th>is_genuine</th>\n",
              "      <th>diagonal</th>\n",
              "      <th>height_left</th>\n",
              "      <th>height_right</th>\n",
              "      <th>margin_low</th>\n",
              "      <th>margin_up</th>\n",
              "      <th>length</th>\n",
              "    </tr>\n",
              "  </thead>\n",
              "  <tbody>\n",
              "    <tr>\n",
              "      <th>0</th>\n",
              "      <td>True</td>\n",
              "      <td>172.06</td>\n",
              "      <td>104.24</td>\n",
              "      <td>103.66</td>\n",
              "      <td>4.24</td>\n",
              "      <td>3.10</td>\n",
              "      <td>113.02</td>\n",
              "    </tr>\n",
              "    <tr>\n",
              "      <th>1</th>\n",
              "      <td>True</td>\n",
              "      <td>171.66</td>\n",
              "      <td>103.68</td>\n",
              "      <td>103.41</td>\n",
              "      <td>4.35</td>\n",
              "      <td>3.33</td>\n",
              "      <td>113.74</td>\n",
              "    </tr>\n",
              "    <tr>\n",
              "      <th>2</th>\n",
              "      <td>True</td>\n",
              "      <td>172.23</td>\n",
              "      <td>104.00</td>\n",
              "      <td>103.35</td>\n",
              "      <td>4.43</td>\n",
              "      <td>2.95</td>\n",
              "      <td>113.12</td>\n",
              "    </tr>\n",
              "    <tr>\n",
              "      <th>3</th>\n",
              "      <td>True</td>\n",
              "      <td>172.07</td>\n",
              "      <td>104.21</td>\n",
              "      <td>103.82</td>\n",
              "      <td>4.29</td>\n",
              "      <td>3.35</td>\n",
              "      <td>113.30</td>\n",
              "    </tr>\n",
              "    <tr>\n",
              "      <th>4</th>\n",
              "      <td>True</td>\n",
              "      <td>171.79</td>\n",
              "      <td>104.57</td>\n",
              "      <td>104.04</td>\n",
              "      <td>4.26</td>\n",
              "      <td>3.15</td>\n",
              "      <td>113.46</td>\n",
              "    </tr>\n",
              "    <tr>\n",
              "      <th>5</th>\n",
              "      <td>False</td>\n",
              "      <td>172.00</td>\n",
              "      <td>104.23</td>\n",
              "      <td>104.52</td>\n",
              "      <td>5.76</td>\n",
              "      <td>3.37</td>\n",
              "      <td>110.94</td>\n",
              "    </tr>\n",
              "    <tr>\n",
              "      <th>6</th>\n",
              "      <td>False</td>\n",
              "      <td>171.56</td>\n",
              "      <td>104.03</td>\n",
              "      <td>103.93</td>\n",
              "      <td>5.47</td>\n",
              "      <td>3.50</td>\n",
              "      <td>111.67</td>\n",
              "    </tr>\n",
              "    <tr>\n",
              "      <th>7</th>\n",
              "      <td>False</td>\n",
              "      <td>171.90</td>\n",
              "      <td>104.33</td>\n",
              "      <td>104.40</td>\n",
              "      <td>4.70</td>\n",
              "      <td>3.31</td>\n",
              "      <td>112.12</td>\n",
              "    </tr>\n",
              "    <tr>\n",
              "      <th>8</th>\n",
              "      <td>False</td>\n",
              "      <td>171.84</td>\n",
              "      <td>104.06</td>\n",
              "      <td>104.10</td>\n",
              "      <td>4.87</td>\n",
              "      <td>3.25</td>\n",
              "      <td>111.04</td>\n",
              "    </tr>\n",
              "    <tr>\n",
              "      <th>9</th>\n",
              "      <td>False</td>\n",
              "      <td>172.11</td>\n",
              "      <td>104.14</td>\n",
              "      <td>104.15</td>\n",
              "      <td>4.84</td>\n",
              "      <td>3.28</td>\n",
              "      <td>110.98</td>\n",
              "    </tr>\n",
              "  </tbody>\n",
              "</table>\n",
              "</div>\n",
              "      <button class=\"colab-df-convert\" onclick=\"convertToInteractive('df-15f9aee4-493c-4853-8def-6009984669bf')\"\n",
              "              title=\"Convert this dataframe to an interactive table.\"\n",
              "              style=\"display:none;\">\n",
              "        \n",
              "  <svg xmlns=\"http://www.w3.org/2000/svg\" height=\"24px\"viewBox=\"0 0 24 24\"\n",
              "       width=\"24px\">\n",
              "    <path d=\"M0 0h24v24H0V0z\" fill=\"none\"/>\n",
              "    <path d=\"M18.56 5.44l.94 2.06.94-2.06 2.06-.94-2.06-.94-.94-2.06-.94 2.06-2.06.94zm-11 1L8.5 8.5l.94-2.06 2.06-.94-2.06-.94L8.5 2.5l-.94 2.06-2.06.94zm10 10l.94 2.06.94-2.06 2.06-.94-2.06-.94-.94-2.06-.94 2.06-2.06.94z\"/><path d=\"M17.41 7.96l-1.37-1.37c-.4-.4-.92-.59-1.43-.59-.52 0-1.04.2-1.43.59L10.3 9.45l-7.72 7.72c-.78.78-.78 2.05 0 2.83L4 21.41c.39.39.9.59 1.41.59.51 0 1.02-.2 1.41-.59l7.78-7.78 2.81-2.81c.8-.78.8-2.07 0-2.86zM5.41 20L4 18.59l7.72-7.72 1.47 1.35L5.41 20z\"/>\n",
              "  </svg>\n",
              "      </button>\n",
              "      \n",
              "  <style>\n",
              "    .colab-df-container {\n",
              "      display:flex;\n",
              "      flex-wrap:wrap;\n",
              "      gap: 12px;\n",
              "    }\n",
              "\n",
              "    .colab-df-convert {\n",
              "      background-color: #E8F0FE;\n",
              "      border: none;\n",
              "      border-radius: 50%;\n",
              "      cursor: pointer;\n",
              "      display: none;\n",
              "      fill: #1967D2;\n",
              "      height: 32px;\n",
              "      padding: 0 0 0 0;\n",
              "      width: 32px;\n",
              "    }\n",
              "\n",
              "    .colab-df-convert:hover {\n",
              "      background-color: #E2EBFA;\n",
              "      box-shadow: 0px 1px 2px rgba(60, 64, 67, 0.3), 0px 1px 3px 1px rgba(60, 64, 67, 0.15);\n",
              "      fill: #174EA6;\n",
              "    }\n",
              "\n",
              "    [theme=dark] .colab-df-convert {\n",
              "      background-color: #3B4455;\n",
              "      fill: #D2E3FC;\n",
              "    }\n",
              "\n",
              "    [theme=dark] .colab-df-convert:hover {\n",
              "      background-color: #434B5C;\n",
              "      box-shadow: 0px 1px 3px 1px rgba(0, 0, 0, 0.15);\n",
              "      filter: drop-shadow(0px 1px 2px rgba(0, 0, 0, 0.3));\n",
              "      fill: #FFFFFF;\n",
              "    }\n",
              "  </style>\n",
              "\n",
              "      <script>\n",
              "        const buttonEl =\n",
              "          document.querySelector('#df-15f9aee4-493c-4853-8def-6009984669bf button.colab-df-convert');\n",
              "        buttonEl.style.display =\n",
              "          google.colab.kernel.accessAllowed ? 'block' : 'none';\n",
              "\n",
              "        async function convertToInteractive(key) {\n",
              "          const element = document.querySelector('#df-15f9aee4-493c-4853-8def-6009984669bf');\n",
              "          const dataTable =\n",
              "            await google.colab.kernel.invokeFunction('convertToInteractive',\n",
              "                                                     [key], {});\n",
              "          if (!dataTable) return;\n",
              "\n",
              "          const docLinkHtml = 'Like what you see? Visit the ' +\n",
              "            '<a target=\"_blank\" href=https://colab.research.google.com/notebooks/data_table.ipynb>data table notebook</a>'\n",
              "            + ' to learn more about interactive tables.';\n",
              "          element.innerHTML = '';\n",
              "          dataTable['output_type'] = 'display_data';\n",
              "          await google.colab.output.renderOutput(dataTable, element);\n",
              "          const docLink = document.createElement('div');\n",
              "          docLink.innerHTML = docLinkHtml;\n",
              "          element.appendChild(docLink);\n",
              "        }\n",
              "      </script>\n",
              "    </div>\n",
              "  </div>\n",
              "  "
            ]
          },
          "metadata": {},
          "execution_count": 128
        }
      ]
    },
    {
      "cell_type": "code",
      "source": [
        "uji = {\n",
        "    \"diagonal\":172.25,\n",
        "    \"height_left\":103.94,\n",
        "    \"height_right\":103.68,\n",
        "    \"margin_low\":4.14,\n",
        "    \"margin_up\":3.25,\n",
        "    \"length\":112.48\n",
        "}"
      ],
      "metadata": {
        "id": "yxvI58K_gz0s"
      },
      "execution_count": 129,
      "outputs": []
    },
    {
      "cell_type": "markdown",
      "source": [
        "1. Tambahkan kolom jarak untuk menampilkan jarak dari dataset terhadap target prediksi\n",
        "2. Urutkan data berdasarkan K jarak terdekat (Untuk K nya ambil akar 2 dari banyak data)\n",
        "3. Tentukan apa hasil prediksinya berdasarkan label terbanyak"
      ],
      "metadata": {
        "id": "tdlkZ64iZj3o"
      }
    },
    {
      "cell_type": "markdown",
      "source": [
        "##Mencari jarak"
      ],
      "metadata": {
        "id": "BaPaxCj3j64c"
      }
    },
    {
      "cell_type": "code",
      "source": [
        "jarak = []#mencari jarak terdekat\n",
        "jarak_2 = []#dibutuhkan untuk sort jarak terdekat (dibagian Menentukan hasil prediksi)"
      ],
      "metadata": {
        "id": "J-o2dSz0yGmS"
      },
      "execution_count": 130,
      "outputs": []
    },
    {
      "cell_type": "code",
      "source": [
        "jarak.clear()\n",
        "jarak_2.clear()\n",
        "for i in range(len(deteksi)):\n",
        "  hasil_jarak = ((deteksi[\"diagonal\"][i] - uji[\"diagonal\"])**2 + (deteksi[\"height_left\"][i] - uji[\"height_left\"])**2 + (deteksi[\"height_right\"][i] - uji[\"height_right\"])**2 + (deteksi[\"margin_low\"][i] - uji[\"margin_low\"])**2 + (deteksi[\"margin_up\"][i] - uji[\"margin_up\"])**2 + (deteksi[\"length\"][i] - uji[\"length\"])**2)**0.5\n",
        "  jarak.append(hasil_jarak)\n",
        "  jarak_2.append(hasil_jarak)\n",
        "\n",
        "#https://ilmudatapy.com/algoritma-k-nearest-neighbor-knn-untuk-klasifikasi/"
      ],
      "metadata": {
        "id": "lao5bbXlj3cF"
      },
      "execution_count": 131,
      "outputs": []
    },
    {
      "cell_type": "code",
      "source": [
        "jarak"
      ],
      "metadata": {
        "colab": {
          "base_uri": "https://localhost:8080/"
        },
        "id": "Wf6IvBALzcd5",
        "outputId": "89e77751-e4f5-4ba5-fa53-a83fddfce73f"
      },
      "execution_count": 132,
      "outputs": [
        {
          "output_type": "execute_result",
          "data": {
            "text/plain": [
              "[0.6712674578735285,\n",
              " 1.4583209523283898,\n",
              " 0.8346256645946192,\n",
              " 0.9109335870413307,\n",
              " 1.3125928538583398,\n",
              " 2.42128065287773,\n",
              " 1.741895519254815,\n",
              " 1.113463066293622,\n",
              " 1.722033681435988,\n",
              " 1.7382174777627788]"
            ]
          },
          "metadata": {},
          "execution_count": 132
        }
      ]
    },
    {
      "cell_type": "markdown",
      "source": [
        "###Menentukan K"
      ],
      "metadata": {
        "id": "XNIOoZgOYfCu"
      }
    },
    {
      "cell_type": "code",
      "source": [
        "K = round(len(deteksi)**0.5) \n",
        "# 3.1622776601683795 dibulatkan menjadi 3 \n",
        "# jadi ada sebanyak 3 label yang akan keluar\n",
        "\n",
        "jarak_2.sort() #mencari jarak terdekat dengan data baru\n",
        "jarak_K = jarak_2[K-1] #mencari jarak terdekat ke 3\n",
        "# 0.9109335870413307"
      ],
      "metadata": {
        "id": "Zh474qM2YhYd"
      },
      "execution_count": 133,
      "outputs": []
    },
    {
      "cell_type": "markdown",
      "source": [
        "###Menambah kolom jarak ke dataset"
      ],
      "metadata": {
        "id": "21heVO-Ybfdm"
      }
    },
    {
      "cell_type": "code",
      "source": [
        "deteksi['jarak'] = jarak\n",
        "deteksi"
      ],
      "metadata": {
        "colab": {
          "base_uri": "https://localhost:8080/",
          "height": 363
        },
        "id": "fVrwWN9_boGO",
        "outputId": "b6589fb9-9581-48e0-d8a7-45d6ef5955dc"
      },
      "execution_count": 134,
      "outputs": [
        {
          "output_type": "execute_result",
          "data": {
            "text/plain": [
              "   is_genuine  diagonal  height_left  height_right  margin_low  margin_up  \\\n",
              "0        True    172.06       104.24        103.66        4.24       3.10   \n",
              "1        True    171.66       103.68        103.41        4.35       3.33   \n",
              "2        True    172.23       104.00        103.35        4.43       2.95   \n",
              "3        True    172.07       104.21        103.82        4.29       3.35   \n",
              "4        True    171.79       104.57        104.04        4.26       3.15   \n",
              "5       False    172.00       104.23        104.52        5.76       3.37   \n",
              "6       False    171.56       104.03        103.93        5.47       3.50   \n",
              "7       False    171.90       104.33        104.40        4.70       3.31   \n",
              "8       False    171.84       104.06        104.10        4.87       3.25   \n",
              "9       False    172.11       104.14        104.15        4.84       3.28   \n",
              "\n",
              "   length     jarak  \n",
              "0  113.02  0.671267  \n",
              "1  113.74  1.458321  \n",
              "2  113.12  0.834626  \n",
              "3  113.30  0.910934  \n",
              "4  113.46  1.312593  \n",
              "5  110.94  2.421281  \n",
              "6  111.67  1.741896  \n",
              "7  112.12  1.113463  \n",
              "8  111.04  1.722034  \n",
              "9  110.98  1.738217  "
            ],
            "text/html": [
              "\n",
              "  <div id=\"df-cdce7a1f-3524-4a9a-b283-dfa4632e1239\">\n",
              "    <div class=\"colab-df-container\">\n",
              "      <div>\n",
              "<style scoped>\n",
              "    .dataframe tbody tr th:only-of-type {\n",
              "        vertical-align: middle;\n",
              "    }\n",
              "\n",
              "    .dataframe tbody tr th {\n",
              "        vertical-align: top;\n",
              "    }\n",
              "\n",
              "    .dataframe thead th {\n",
              "        text-align: right;\n",
              "    }\n",
              "</style>\n",
              "<table border=\"1\" class=\"dataframe\">\n",
              "  <thead>\n",
              "    <tr style=\"text-align: right;\">\n",
              "      <th></th>\n",
              "      <th>is_genuine</th>\n",
              "      <th>diagonal</th>\n",
              "      <th>height_left</th>\n",
              "      <th>height_right</th>\n",
              "      <th>margin_low</th>\n",
              "      <th>margin_up</th>\n",
              "      <th>length</th>\n",
              "      <th>jarak</th>\n",
              "    </tr>\n",
              "  </thead>\n",
              "  <tbody>\n",
              "    <tr>\n",
              "      <th>0</th>\n",
              "      <td>True</td>\n",
              "      <td>172.06</td>\n",
              "      <td>104.24</td>\n",
              "      <td>103.66</td>\n",
              "      <td>4.24</td>\n",
              "      <td>3.10</td>\n",
              "      <td>113.02</td>\n",
              "      <td>0.671267</td>\n",
              "    </tr>\n",
              "    <tr>\n",
              "      <th>1</th>\n",
              "      <td>True</td>\n",
              "      <td>171.66</td>\n",
              "      <td>103.68</td>\n",
              "      <td>103.41</td>\n",
              "      <td>4.35</td>\n",
              "      <td>3.33</td>\n",
              "      <td>113.74</td>\n",
              "      <td>1.458321</td>\n",
              "    </tr>\n",
              "    <tr>\n",
              "      <th>2</th>\n",
              "      <td>True</td>\n",
              "      <td>172.23</td>\n",
              "      <td>104.00</td>\n",
              "      <td>103.35</td>\n",
              "      <td>4.43</td>\n",
              "      <td>2.95</td>\n",
              "      <td>113.12</td>\n",
              "      <td>0.834626</td>\n",
              "    </tr>\n",
              "    <tr>\n",
              "      <th>3</th>\n",
              "      <td>True</td>\n",
              "      <td>172.07</td>\n",
              "      <td>104.21</td>\n",
              "      <td>103.82</td>\n",
              "      <td>4.29</td>\n",
              "      <td>3.35</td>\n",
              "      <td>113.30</td>\n",
              "      <td>0.910934</td>\n",
              "    </tr>\n",
              "    <tr>\n",
              "      <th>4</th>\n",
              "      <td>True</td>\n",
              "      <td>171.79</td>\n",
              "      <td>104.57</td>\n",
              "      <td>104.04</td>\n",
              "      <td>4.26</td>\n",
              "      <td>3.15</td>\n",
              "      <td>113.46</td>\n",
              "      <td>1.312593</td>\n",
              "    </tr>\n",
              "    <tr>\n",
              "      <th>5</th>\n",
              "      <td>False</td>\n",
              "      <td>172.00</td>\n",
              "      <td>104.23</td>\n",
              "      <td>104.52</td>\n",
              "      <td>5.76</td>\n",
              "      <td>3.37</td>\n",
              "      <td>110.94</td>\n",
              "      <td>2.421281</td>\n",
              "    </tr>\n",
              "    <tr>\n",
              "      <th>6</th>\n",
              "      <td>False</td>\n",
              "      <td>171.56</td>\n",
              "      <td>104.03</td>\n",
              "      <td>103.93</td>\n",
              "      <td>5.47</td>\n",
              "      <td>3.50</td>\n",
              "      <td>111.67</td>\n",
              "      <td>1.741896</td>\n",
              "    </tr>\n",
              "    <tr>\n",
              "      <th>7</th>\n",
              "      <td>False</td>\n",
              "      <td>171.90</td>\n",
              "      <td>104.33</td>\n",
              "      <td>104.40</td>\n",
              "      <td>4.70</td>\n",
              "      <td>3.31</td>\n",
              "      <td>112.12</td>\n",
              "      <td>1.113463</td>\n",
              "    </tr>\n",
              "    <tr>\n",
              "      <th>8</th>\n",
              "      <td>False</td>\n",
              "      <td>171.84</td>\n",
              "      <td>104.06</td>\n",
              "      <td>104.10</td>\n",
              "      <td>4.87</td>\n",
              "      <td>3.25</td>\n",
              "      <td>111.04</td>\n",
              "      <td>1.722034</td>\n",
              "    </tr>\n",
              "    <tr>\n",
              "      <th>9</th>\n",
              "      <td>False</td>\n",
              "      <td>172.11</td>\n",
              "      <td>104.14</td>\n",
              "      <td>104.15</td>\n",
              "      <td>4.84</td>\n",
              "      <td>3.28</td>\n",
              "      <td>110.98</td>\n",
              "      <td>1.738217</td>\n",
              "    </tr>\n",
              "  </tbody>\n",
              "</table>\n",
              "</div>\n",
              "      <button class=\"colab-df-convert\" onclick=\"convertToInteractive('df-cdce7a1f-3524-4a9a-b283-dfa4632e1239')\"\n",
              "              title=\"Convert this dataframe to an interactive table.\"\n",
              "              style=\"display:none;\">\n",
              "        \n",
              "  <svg xmlns=\"http://www.w3.org/2000/svg\" height=\"24px\"viewBox=\"0 0 24 24\"\n",
              "       width=\"24px\">\n",
              "    <path d=\"M0 0h24v24H0V0z\" fill=\"none\"/>\n",
              "    <path d=\"M18.56 5.44l.94 2.06.94-2.06 2.06-.94-2.06-.94-.94-2.06-.94 2.06-2.06.94zm-11 1L8.5 8.5l.94-2.06 2.06-.94-2.06-.94L8.5 2.5l-.94 2.06-2.06.94zm10 10l.94 2.06.94-2.06 2.06-.94-2.06-.94-.94-2.06-.94 2.06-2.06.94z\"/><path d=\"M17.41 7.96l-1.37-1.37c-.4-.4-.92-.59-1.43-.59-.52 0-1.04.2-1.43.59L10.3 9.45l-7.72 7.72c-.78.78-.78 2.05 0 2.83L4 21.41c.39.39.9.59 1.41.59.51 0 1.02-.2 1.41-.59l7.78-7.78 2.81-2.81c.8-.78.8-2.07 0-2.86zM5.41 20L4 18.59l7.72-7.72 1.47 1.35L5.41 20z\"/>\n",
              "  </svg>\n",
              "      </button>\n",
              "      \n",
              "  <style>\n",
              "    .colab-df-container {\n",
              "      display:flex;\n",
              "      flex-wrap:wrap;\n",
              "      gap: 12px;\n",
              "    }\n",
              "\n",
              "    .colab-df-convert {\n",
              "      background-color: #E8F0FE;\n",
              "      border: none;\n",
              "      border-radius: 50%;\n",
              "      cursor: pointer;\n",
              "      display: none;\n",
              "      fill: #1967D2;\n",
              "      height: 32px;\n",
              "      padding: 0 0 0 0;\n",
              "      width: 32px;\n",
              "    }\n",
              "\n",
              "    .colab-df-convert:hover {\n",
              "      background-color: #E2EBFA;\n",
              "      box-shadow: 0px 1px 2px rgba(60, 64, 67, 0.3), 0px 1px 3px 1px rgba(60, 64, 67, 0.15);\n",
              "      fill: #174EA6;\n",
              "    }\n",
              "\n",
              "    [theme=dark] .colab-df-convert {\n",
              "      background-color: #3B4455;\n",
              "      fill: #D2E3FC;\n",
              "    }\n",
              "\n",
              "    [theme=dark] .colab-df-convert:hover {\n",
              "      background-color: #434B5C;\n",
              "      box-shadow: 0px 1px 3px 1px rgba(0, 0, 0, 0.15);\n",
              "      filter: drop-shadow(0px 1px 2px rgba(0, 0, 0, 0.3));\n",
              "      fill: #FFFFFF;\n",
              "    }\n",
              "  </style>\n",
              "\n",
              "      <script>\n",
              "        const buttonEl =\n",
              "          document.querySelector('#df-cdce7a1f-3524-4a9a-b283-dfa4632e1239 button.colab-df-convert');\n",
              "        buttonEl.style.display =\n",
              "          google.colab.kernel.accessAllowed ? 'block' : 'none';\n",
              "\n",
              "        async function convertToInteractive(key) {\n",
              "          const element = document.querySelector('#df-cdce7a1f-3524-4a9a-b283-dfa4632e1239');\n",
              "          const dataTable =\n",
              "            await google.colab.kernel.invokeFunction('convertToInteractive',\n",
              "                                                     [key], {});\n",
              "          if (!dataTable) return;\n",
              "\n",
              "          const docLinkHtml = 'Like what you see? Visit the ' +\n",
              "            '<a target=\"_blank\" href=https://colab.research.google.com/notebooks/data_table.ipynb>data table notebook</a>'\n",
              "            + ' to learn more about interactive tables.';\n",
              "          element.innerHTML = '';\n",
              "          dataTable['output_type'] = 'display_data';\n",
              "          await google.colab.output.renderOutput(dataTable, element);\n",
              "          const docLink = document.createElement('div');\n",
              "          docLink.innerHTML = docLinkHtml;\n",
              "          element.appendChild(docLink);\n",
              "        }\n",
              "      </script>\n",
              "    </div>\n",
              "  </div>\n",
              "  "
            ]
          },
          "metadata": {},
          "execution_count": 134
        }
      ]
    },
    {
      "cell_type": "markdown",
      "source": [
        "##Menentukan hasil prediksi"
      ],
      "metadata": {
        "id": "2LkkQPauhzst"
      }
    },
    {
      "cell_type": "markdown",
      "source": [
        "###Menambahkan kolom k, untuk melihat jarak yang terpenuhi"
      ],
      "metadata": {
        "id": "VcR9lyMFuVkS"
      }
    },
    {
      "cell_type": "code",
      "source": [
        "hasil = []\n",
        "for a in range(len(deteksi)):\n",
        "  if deteksi[\"jarak\"][a] <= jarak_K:# menentukan apakah jaraknya lebih dekat dengan data baru\n",
        "    hasil.append(deteksi[\"is_genuine\"][a])\n",
        "  else :\n",
        "    hasil.append(\"Jarak tidak terpenuhi\")\n",
        "\n",
        "deteksi[\"k\"] = hasil #menambahkan kolom k, untuk melihat jarak yang terpenuhi\n",
        "deteksi"
      ],
      "metadata": {
        "colab": {
          "base_uri": "https://localhost:8080/",
          "height": 363
        },
        "id": "UCRWBByZkfEl",
        "outputId": "7f67db5b-4af7-43fb-bb39-3bd6fc574f70"
      },
      "execution_count": 135,
      "outputs": [
        {
          "output_type": "execute_result",
          "data": {
            "text/plain": [
              "   is_genuine  diagonal  height_left  height_right  margin_low  margin_up  \\\n",
              "0        True    172.06       104.24        103.66        4.24       3.10   \n",
              "1        True    171.66       103.68        103.41        4.35       3.33   \n",
              "2        True    172.23       104.00        103.35        4.43       2.95   \n",
              "3        True    172.07       104.21        103.82        4.29       3.35   \n",
              "4        True    171.79       104.57        104.04        4.26       3.15   \n",
              "5       False    172.00       104.23        104.52        5.76       3.37   \n",
              "6       False    171.56       104.03        103.93        5.47       3.50   \n",
              "7       False    171.90       104.33        104.40        4.70       3.31   \n",
              "8       False    171.84       104.06        104.10        4.87       3.25   \n",
              "9       False    172.11       104.14        104.15        4.84       3.28   \n",
              "\n",
              "   length     jarak                      k  \n",
              "0  113.02  0.671267                   True  \n",
              "1  113.74  1.458321  Jarak tidak terpenuhi  \n",
              "2  113.12  0.834626                   True  \n",
              "3  113.30  0.910934                   True  \n",
              "4  113.46  1.312593  Jarak tidak terpenuhi  \n",
              "5  110.94  2.421281  Jarak tidak terpenuhi  \n",
              "6  111.67  1.741896  Jarak tidak terpenuhi  \n",
              "7  112.12  1.113463  Jarak tidak terpenuhi  \n",
              "8  111.04  1.722034  Jarak tidak terpenuhi  \n",
              "9  110.98  1.738217  Jarak tidak terpenuhi  "
            ],
            "text/html": [
              "\n",
              "  <div id=\"df-70374342-8a86-4d4c-bbe0-7695fc3515a6\">\n",
              "    <div class=\"colab-df-container\">\n",
              "      <div>\n",
              "<style scoped>\n",
              "    .dataframe tbody tr th:only-of-type {\n",
              "        vertical-align: middle;\n",
              "    }\n",
              "\n",
              "    .dataframe tbody tr th {\n",
              "        vertical-align: top;\n",
              "    }\n",
              "\n",
              "    .dataframe thead th {\n",
              "        text-align: right;\n",
              "    }\n",
              "</style>\n",
              "<table border=\"1\" class=\"dataframe\">\n",
              "  <thead>\n",
              "    <tr style=\"text-align: right;\">\n",
              "      <th></th>\n",
              "      <th>is_genuine</th>\n",
              "      <th>diagonal</th>\n",
              "      <th>height_left</th>\n",
              "      <th>height_right</th>\n",
              "      <th>margin_low</th>\n",
              "      <th>margin_up</th>\n",
              "      <th>length</th>\n",
              "      <th>jarak</th>\n",
              "      <th>k</th>\n",
              "    </tr>\n",
              "  </thead>\n",
              "  <tbody>\n",
              "    <tr>\n",
              "      <th>0</th>\n",
              "      <td>True</td>\n",
              "      <td>172.06</td>\n",
              "      <td>104.24</td>\n",
              "      <td>103.66</td>\n",
              "      <td>4.24</td>\n",
              "      <td>3.10</td>\n",
              "      <td>113.02</td>\n",
              "      <td>0.671267</td>\n",
              "      <td>True</td>\n",
              "    </tr>\n",
              "    <tr>\n",
              "      <th>1</th>\n",
              "      <td>True</td>\n",
              "      <td>171.66</td>\n",
              "      <td>103.68</td>\n",
              "      <td>103.41</td>\n",
              "      <td>4.35</td>\n",
              "      <td>3.33</td>\n",
              "      <td>113.74</td>\n",
              "      <td>1.458321</td>\n",
              "      <td>Jarak tidak terpenuhi</td>\n",
              "    </tr>\n",
              "    <tr>\n",
              "      <th>2</th>\n",
              "      <td>True</td>\n",
              "      <td>172.23</td>\n",
              "      <td>104.00</td>\n",
              "      <td>103.35</td>\n",
              "      <td>4.43</td>\n",
              "      <td>2.95</td>\n",
              "      <td>113.12</td>\n",
              "      <td>0.834626</td>\n",
              "      <td>True</td>\n",
              "    </tr>\n",
              "    <tr>\n",
              "      <th>3</th>\n",
              "      <td>True</td>\n",
              "      <td>172.07</td>\n",
              "      <td>104.21</td>\n",
              "      <td>103.82</td>\n",
              "      <td>4.29</td>\n",
              "      <td>3.35</td>\n",
              "      <td>113.30</td>\n",
              "      <td>0.910934</td>\n",
              "      <td>True</td>\n",
              "    </tr>\n",
              "    <tr>\n",
              "      <th>4</th>\n",
              "      <td>True</td>\n",
              "      <td>171.79</td>\n",
              "      <td>104.57</td>\n",
              "      <td>104.04</td>\n",
              "      <td>4.26</td>\n",
              "      <td>3.15</td>\n",
              "      <td>113.46</td>\n",
              "      <td>1.312593</td>\n",
              "      <td>Jarak tidak terpenuhi</td>\n",
              "    </tr>\n",
              "    <tr>\n",
              "      <th>5</th>\n",
              "      <td>False</td>\n",
              "      <td>172.00</td>\n",
              "      <td>104.23</td>\n",
              "      <td>104.52</td>\n",
              "      <td>5.76</td>\n",
              "      <td>3.37</td>\n",
              "      <td>110.94</td>\n",
              "      <td>2.421281</td>\n",
              "      <td>Jarak tidak terpenuhi</td>\n",
              "    </tr>\n",
              "    <tr>\n",
              "      <th>6</th>\n",
              "      <td>False</td>\n",
              "      <td>171.56</td>\n",
              "      <td>104.03</td>\n",
              "      <td>103.93</td>\n",
              "      <td>5.47</td>\n",
              "      <td>3.50</td>\n",
              "      <td>111.67</td>\n",
              "      <td>1.741896</td>\n",
              "      <td>Jarak tidak terpenuhi</td>\n",
              "    </tr>\n",
              "    <tr>\n",
              "      <th>7</th>\n",
              "      <td>False</td>\n",
              "      <td>171.90</td>\n",
              "      <td>104.33</td>\n",
              "      <td>104.40</td>\n",
              "      <td>4.70</td>\n",
              "      <td>3.31</td>\n",
              "      <td>112.12</td>\n",
              "      <td>1.113463</td>\n",
              "      <td>Jarak tidak terpenuhi</td>\n",
              "    </tr>\n",
              "    <tr>\n",
              "      <th>8</th>\n",
              "      <td>False</td>\n",
              "      <td>171.84</td>\n",
              "      <td>104.06</td>\n",
              "      <td>104.10</td>\n",
              "      <td>4.87</td>\n",
              "      <td>3.25</td>\n",
              "      <td>111.04</td>\n",
              "      <td>1.722034</td>\n",
              "      <td>Jarak tidak terpenuhi</td>\n",
              "    </tr>\n",
              "    <tr>\n",
              "      <th>9</th>\n",
              "      <td>False</td>\n",
              "      <td>172.11</td>\n",
              "      <td>104.14</td>\n",
              "      <td>104.15</td>\n",
              "      <td>4.84</td>\n",
              "      <td>3.28</td>\n",
              "      <td>110.98</td>\n",
              "      <td>1.738217</td>\n",
              "      <td>Jarak tidak terpenuhi</td>\n",
              "    </tr>\n",
              "  </tbody>\n",
              "</table>\n",
              "</div>\n",
              "      <button class=\"colab-df-convert\" onclick=\"convertToInteractive('df-70374342-8a86-4d4c-bbe0-7695fc3515a6')\"\n",
              "              title=\"Convert this dataframe to an interactive table.\"\n",
              "              style=\"display:none;\">\n",
              "        \n",
              "  <svg xmlns=\"http://www.w3.org/2000/svg\" height=\"24px\"viewBox=\"0 0 24 24\"\n",
              "       width=\"24px\">\n",
              "    <path d=\"M0 0h24v24H0V0z\" fill=\"none\"/>\n",
              "    <path d=\"M18.56 5.44l.94 2.06.94-2.06 2.06-.94-2.06-.94-.94-2.06-.94 2.06-2.06.94zm-11 1L8.5 8.5l.94-2.06 2.06-.94-2.06-.94L8.5 2.5l-.94 2.06-2.06.94zm10 10l.94 2.06.94-2.06 2.06-.94-2.06-.94-.94-2.06-.94 2.06-2.06.94z\"/><path d=\"M17.41 7.96l-1.37-1.37c-.4-.4-.92-.59-1.43-.59-.52 0-1.04.2-1.43.59L10.3 9.45l-7.72 7.72c-.78.78-.78 2.05 0 2.83L4 21.41c.39.39.9.59 1.41.59.51 0 1.02-.2 1.41-.59l7.78-7.78 2.81-2.81c.8-.78.8-2.07 0-2.86zM5.41 20L4 18.59l7.72-7.72 1.47 1.35L5.41 20z\"/>\n",
              "  </svg>\n",
              "      </button>\n",
              "      \n",
              "  <style>\n",
              "    .colab-df-container {\n",
              "      display:flex;\n",
              "      flex-wrap:wrap;\n",
              "      gap: 12px;\n",
              "    }\n",
              "\n",
              "    .colab-df-convert {\n",
              "      background-color: #E8F0FE;\n",
              "      border: none;\n",
              "      border-radius: 50%;\n",
              "      cursor: pointer;\n",
              "      display: none;\n",
              "      fill: #1967D2;\n",
              "      height: 32px;\n",
              "      padding: 0 0 0 0;\n",
              "      width: 32px;\n",
              "    }\n",
              "\n",
              "    .colab-df-convert:hover {\n",
              "      background-color: #E2EBFA;\n",
              "      box-shadow: 0px 1px 2px rgba(60, 64, 67, 0.3), 0px 1px 3px 1px rgba(60, 64, 67, 0.15);\n",
              "      fill: #174EA6;\n",
              "    }\n",
              "\n",
              "    [theme=dark] .colab-df-convert {\n",
              "      background-color: #3B4455;\n",
              "      fill: #D2E3FC;\n",
              "    }\n",
              "\n",
              "    [theme=dark] .colab-df-convert:hover {\n",
              "      background-color: #434B5C;\n",
              "      box-shadow: 0px 1px 3px 1px rgba(0, 0, 0, 0.15);\n",
              "      filter: drop-shadow(0px 1px 2px rgba(0, 0, 0, 0.3));\n",
              "      fill: #FFFFFF;\n",
              "    }\n",
              "  </style>\n",
              "\n",
              "      <script>\n",
              "        const buttonEl =\n",
              "          document.querySelector('#df-70374342-8a86-4d4c-bbe0-7695fc3515a6 button.colab-df-convert');\n",
              "        buttonEl.style.display =\n",
              "          google.colab.kernel.accessAllowed ? 'block' : 'none';\n",
              "\n",
              "        async function convertToInteractive(key) {\n",
              "          const element = document.querySelector('#df-70374342-8a86-4d4c-bbe0-7695fc3515a6');\n",
              "          const dataTable =\n",
              "            await google.colab.kernel.invokeFunction('convertToInteractive',\n",
              "                                                     [key], {});\n",
              "          if (!dataTable) return;\n",
              "\n",
              "          const docLinkHtml = 'Like what you see? Visit the ' +\n",
              "            '<a target=\"_blank\" href=https://colab.research.google.com/notebooks/data_table.ipynb>data table notebook</a>'\n",
              "            + ' to learn more about interactive tables.';\n",
              "          element.innerHTML = '';\n",
              "          dataTable['output_type'] = 'display_data';\n",
              "          await google.colab.output.renderOutput(dataTable, element);\n",
              "          const docLink = document.createElement('div');\n",
              "          docLink.innerHTML = docLinkHtml;\n",
              "          element.appendChild(docLink);\n",
              "        }\n",
              "      </script>\n",
              "    </div>\n",
              "  </div>\n",
              "  "
            ]
          },
          "metadata": {},
          "execution_count": 135
        }
      ]
    },
    {
      "cell_type": "markdown",
      "source": [
        "###Menghitung jumlah kelas terbanyak dan hasil nya"
      ],
      "metadata": {
        "id": "QCeY60XF5Tu0"
      }
    },
    {
      "cell_type": "code",
      "source": [
        "genuine_True = 0 #jumlah dari hasil kelas\n",
        "genuine_False = 0\n",
        "\n",
        "for j in range(len(deteksi)):\n",
        "  if deteksi[\"k\"][j] == True:\n",
        "    genuine_True += 1\n",
        "  elif deteksi[\"k\"][j] == False:\n",
        "    genuine_False += 1\n",
        "  else:\n",
        "    continue\n",
        "\n",
        "print(f\"Jumlah kelas yang bernilai True = {genuine_True}\")\n",
        "print(f\"Jumlah kelas yang bernilai False = {genuine_False}\")"
      ],
      "metadata": {
        "id": "HcDfIKdyuvz6",
        "colab": {
          "base_uri": "https://localhost:8080/"
        },
        "outputId": "f9189dec-d3cb-4c25-afbe-e52c1db49603"
      },
      "execution_count": 136,
      "outputs": [
        {
          "output_type": "stream",
          "name": "stdout",
          "text": [
            "Jumlah kelas yang bernilai True = 3\n",
            "Jumlah kelas yang bernilai False = 0\n"
          ]
        }
      ]
    },
    {
      "cell_type": "code",
      "source": [
        "if genuine_True > genuine_False:\n",
        "  print(\"Diketahui bahwa data baru / uang baru tersebut Asli\")\n",
        "else:\n",
        "  print(\"Diketahui bahwa data baru / uang baru tersebut Palsu\")"
      ],
      "metadata": {
        "colab": {
          "base_uri": "https://localhost:8080/"
        },
        "id": "m3uSHsAF3UuR",
        "outputId": "a6ad121b-f39e-4a3a-ede3-e61c6f4630f8"
      },
      "execution_count": 137,
      "outputs": [
        {
          "output_type": "stream",
          "name": "stdout",
          "text": [
            "Diketahui bahwa data baru / uang baru tersebut Asli\n"
          ]
        }
      ]
    },
    {
      "cell_type": "markdown",
      "source": [
        "# (3) Analisis"
      ],
      "metadata": {
        "id": "F0N-LXThwiqD"
      }
    },
    {
      "cell_type": "markdown",
      "source": [
        "> Nama : Ahmad Lutfi\n",
        "\n",
        "> Nim : 2109116009\n"
      ],
      "metadata": {
        "id": "dItRdcTguaHj"
      }
    },
    {
      "cell_type": "markdown",
      "source": [
        "Penjelasan posttest : \n",
        "\n",
        "Pilihlah salah satu tema dari daftar tema ini :  \n",
        "1. Perbankan\n",
        "2. Kesehatan\n",
        "3. Ritel\n",
        "4. Pendidkan\n",
        "\n",
        "Kemudian lakukan analisis dengan menggunakan struktur CRISP-DM\n",
        "\n",
        "Dimulai dari Business Understanding Hingga Data Preparation \n",
        "<img src=\"https://th.bing.com/th/id/R.f8efea41ae3cd96d86fbc5b10f81ad77?rik=K4Dr%2biIaVGvW8g&riu=http%3a%2f%2fwww.dataprix.com%2ffiles%2fCRISPDM%2fMetodologia_CRISP_DM1_html_52cdbecf.png&ehk=6ONLJMCVxE421Sjt2JJPE6MfCzrL7LLhDZQPdkJTLcw%3d&risl=&pid=ImgRaw&r=0\"/>\n",
        "\n",
        "Tentukan judul dengan ketentuan setiap orang di kelas beda-beda judulnya dan sumber datasetnya (contoh bisa prediksi atau aturan asosiasi)\n",
        "\n",
        "Catatan : Tugas ini akan berhubungan dengan posttest terakhir (pertemuan 6)"
      ],
      "metadata": {
        "id": "Vbv4o0Q2uiXZ"
      }
    },
    {
      "cell_type": "markdown",
      "source": [
        "##Business Understanding"
      ],
      "metadata": {
        "id": "FGsABV5HXvCj"
      }
    },
    {
      "cell_type": "markdown",
      "source": [
        "Berdasarkan [ourworldindata](https://ourworldindata.org/grapher/annual-number-of-deaths-by-cause) penyebab kematian tertinggi didunia adalah Cardiovascular diseases (CVDs) sebanyak 18,56 juta. CVDs merupakan suatu keadaan dimana terjadinya gangguan pada sistem jantung dan pembuluh darah. CVDs inilah yang membuat seseorang dapat mengalami gagal jantung.\n",
        "\n",
        "\n",
        "\n",
        "> **Target Bisnis :** Orang dengan penyakit kardiovaskular memerlukan deteksi dan pengobatan dini, yang bisa sangat bermanfaat. \n",
        "\n",
        "\n",
        "\n",
        "\n",
        "> **Target Data Mining :** Dengan dataset ini dapat membantu untuk memprediksi apakah seorang pasien rentan terhadap gagal jantung bergantung pada banyak atribut / faktor seperti umur, tekanan darah, kelamin, dll. \n",
        "\n",
        "\n",
        "[Pengertian CVDs](https://pjnhk.go.id/artikel/faktor-faktor-yang-mempengaruhi-self-care-management-pada-pasien-cardiovascular-disease)"
      ],
      "metadata": {
        "id": "qM0zphlxaqhM"
      }
    },
    {
      "cell_type": "markdown",
      "source": [
        "##Data Understanding"
      ],
      "metadata": {
        "id": "j0q6Vjp8mz10"
      }
    },
    {
      "cell_type": "markdown",
      "source": [
        "###Collect Data"
      ],
      "metadata": {
        "id": "jHoRqI10PAYh"
      }
    },
    {
      "cell_type": "code",
      "source": [
        "heart = pd.read_csv('heart.csv')"
      ],
      "metadata": {
        "id": "zcB7cabJBlel"
      },
      "execution_count": 138,
      "outputs": []
    },
    {
      "cell_type": "markdown",
      "source": [
        "###Describe Data"
      ],
      "metadata": {
        "id": "5owoeveyPdmI"
      }
    },
    {
      "cell_type": "markdown",
      "source": [
        "**Informasi Atribut**\n",
        "\n",
        "\n",
        "---\n",
        "\n",
        "\n",
        "**Age**: age of the patient [years]\n",
        "\n",
        "**Sex**: sex of the patient [M: Male, F: Female]\n",
        "\n",
        "**ChestPainType**: chest pain type [TA: Typical Angina, ATA: Atypical Angina, NAP: Non-Anginal Pain, ASY: Asymptomatic]\n",
        "\n",
        "**RestingBP**: resting blood pressure [mm Hg]\n",
        "\n",
        "**Cholesterol**: serum cholesterol [mm/dl]\n",
        "\n",
        "**FastingBS**: fasting blood sugar [1: if FastingBS > 120 mg/dl, 0: otherwise]\n",
        "\n",
        "**RestingECG**: resting electrocardiogram results [Normal: Normal, ST: having ST-T wave abnormality (T wave inversions and/or ST elevation or depression of > 0.05 mV), LVH: showing probable or definite left ventricular hypertrophy by Estes' criteria]\n",
        "\n",
        "**MaxHR**: maximum heart rate achieved [Numeric value between 60 and 202]\n",
        "\n",
        "**ExerciseAngina**: exercise-induced angina [Y: Yes, N: No]\n",
        "\n",
        "**Oldpeak**: oldpeak = ST [Numeric value measured in depression]\n",
        "\n",
        "**ST_Slope**: the slope of the peak exercise ST segment [Up: upsloping, Flat: flat, Down: downsloping]\n",
        "\n",
        "**HeartDisease**: output class [1: heart disease, 0: Normal]"
      ],
      "metadata": {
        "id": "m3zsihbOPknc"
      }
    },
    {
      "cell_type": "code",
      "source": [
        "heart.head()\n",
        "\n",
        "# Menampilkan 5 row pertama dari dataset"
      ],
      "metadata": {
        "colab": {
          "base_uri": "https://localhost:8080/",
          "height": 206
        },
        "id": "UZixxwraBnu1",
        "outputId": "458aa5b2-8059-4c45-fb7c-c4d1e16baafe"
      },
      "execution_count": 139,
      "outputs": [
        {
          "output_type": "execute_result",
          "data": {
            "text/plain": [
              "   Age Sex ChestPainType  RestingBP  Cholesterol  FastingBS RestingECG  MaxHR  \\\n",
              "0   40   M           ATA        140          289          0     Normal    172   \n",
              "1   49   F           NAP        160          180          0     Normal    156   \n",
              "2   37   M           ATA        130          283          0         ST     98   \n",
              "3   48   F           ASY        138          214          0     Normal    108   \n",
              "4   54   M           NAP        150          195          0     Normal    122   \n",
              "\n",
              "  ExerciseAngina  Oldpeak ST_Slope  HeartDisease  \n",
              "0              N      0.0       Up             0  \n",
              "1              N      1.0     Flat             1  \n",
              "2              N      0.0       Up             0  \n",
              "3              Y      1.5     Flat             1  \n",
              "4              N      0.0       Up             0  "
            ],
            "text/html": [
              "\n",
              "  <div id=\"df-d1e7961d-9d77-425a-942b-6028a222b44c\">\n",
              "    <div class=\"colab-df-container\">\n",
              "      <div>\n",
              "<style scoped>\n",
              "    .dataframe tbody tr th:only-of-type {\n",
              "        vertical-align: middle;\n",
              "    }\n",
              "\n",
              "    .dataframe tbody tr th {\n",
              "        vertical-align: top;\n",
              "    }\n",
              "\n",
              "    .dataframe thead th {\n",
              "        text-align: right;\n",
              "    }\n",
              "</style>\n",
              "<table border=\"1\" class=\"dataframe\">\n",
              "  <thead>\n",
              "    <tr style=\"text-align: right;\">\n",
              "      <th></th>\n",
              "      <th>Age</th>\n",
              "      <th>Sex</th>\n",
              "      <th>ChestPainType</th>\n",
              "      <th>RestingBP</th>\n",
              "      <th>Cholesterol</th>\n",
              "      <th>FastingBS</th>\n",
              "      <th>RestingECG</th>\n",
              "      <th>MaxHR</th>\n",
              "      <th>ExerciseAngina</th>\n",
              "      <th>Oldpeak</th>\n",
              "      <th>ST_Slope</th>\n",
              "      <th>HeartDisease</th>\n",
              "    </tr>\n",
              "  </thead>\n",
              "  <tbody>\n",
              "    <tr>\n",
              "      <th>0</th>\n",
              "      <td>40</td>\n",
              "      <td>M</td>\n",
              "      <td>ATA</td>\n",
              "      <td>140</td>\n",
              "      <td>289</td>\n",
              "      <td>0</td>\n",
              "      <td>Normal</td>\n",
              "      <td>172</td>\n",
              "      <td>N</td>\n",
              "      <td>0.0</td>\n",
              "      <td>Up</td>\n",
              "      <td>0</td>\n",
              "    </tr>\n",
              "    <tr>\n",
              "      <th>1</th>\n",
              "      <td>49</td>\n",
              "      <td>F</td>\n",
              "      <td>NAP</td>\n",
              "      <td>160</td>\n",
              "      <td>180</td>\n",
              "      <td>0</td>\n",
              "      <td>Normal</td>\n",
              "      <td>156</td>\n",
              "      <td>N</td>\n",
              "      <td>1.0</td>\n",
              "      <td>Flat</td>\n",
              "      <td>1</td>\n",
              "    </tr>\n",
              "    <tr>\n",
              "      <th>2</th>\n",
              "      <td>37</td>\n",
              "      <td>M</td>\n",
              "      <td>ATA</td>\n",
              "      <td>130</td>\n",
              "      <td>283</td>\n",
              "      <td>0</td>\n",
              "      <td>ST</td>\n",
              "      <td>98</td>\n",
              "      <td>N</td>\n",
              "      <td>0.0</td>\n",
              "      <td>Up</td>\n",
              "      <td>0</td>\n",
              "    </tr>\n",
              "    <tr>\n",
              "      <th>3</th>\n",
              "      <td>48</td>\n",
              "      <td>F</td>\n",
              "      <td>ASY</td>\n",
              "      <td>138</td>\n",
              "      <td>214</td>\n",
              "      <td>0</td>\n",
              "      <td>Normal</td>\n",
              "      <td>108</td>\n",
              "      <td>Y</td>\n",
              "      <td>1.5</td>\n",
              "      <td>Flat</td>\n",
              "      <td>1</td>\n",
              "    </tr>\n",
              "    <tr>\n",
              "      <th>4</th>\n",
              "      <td>54</td>\n",
              "      <td>M</td>\n",
              "      <td>NAP</td>\n",
              "      <td>150</td>\n",
              "      <td>195</td>\n",
              "      <td>0</td>\n",
              "      <td>Normal</td>\n",
              "      <td>122</td>\n",
              "      <td>N</td>\n",
              "      <td>0.0</td>\n",
              "      <td>Up</td>\n",
              "      <td>0</td>\n",
              "    </tr>\n",
              "  </tbody>\n",
              "</table>\n",
              "</div>\n",
              "      <button class=\"colab-df-convert\" onclick=\"convertToInteractive('df-d1e7961d-9d77-425a-942b-6028a222b44c')\"\n",
              "              title=\"Convert this dataframe to an interactive table.\"\n",
              "              style=\"display:none;\">\n",
              "        \n",
              "  <svg xmlns=\"http://www.w3.org/2000/svg\" height=\"24px\"viewBox=\"0 0 24 24\"\n",
              "       width=\"24px\">\n",
              "    <path d=\"M0 0h24v24H0V0z\" fill=\"none\"/>\n",
              "    <path d=\"M18.56 5.44l.94 2.06.94-2.06 2.06-.94-2.06-.94-.94-2.06-.94 2.06-2.06.94zm-11 1L8.5 8.5l.94-2.06 2.06-.94-2.06-.94L8.5 2.5l-.94 2.06-2.06.94zm10 10l.94 2.06.94-2.06 2.06-.94-2.06-.94-.94-2.06-.94 2.06-2.06.94z\"/><path d=\"M17.41 7.96l-1.37-1.37c-.4-.4-.92-.59-1.43-.59-.52 0-1.04.2-1.43.59L10.3 9.45l-7.72 7.72c-.78.78-.78 2.05 0 2.83L4 21.41c.39.39.9.59 1.41.59.51 0 1.02-.2 1.41-.59l7.78-7.78 2.81-2.81c.8-.78.8-2.07 0-2.86zM5.41 20L4 18.59l7.72-7.72 1.47 1.35L5.41 20z\"/>\n",
              "  </svg>\n",
              "      </button>\n",
              "      \n",
              "  <style>\n",
              "    .colab-df-container {\n",
              "      display:flex;\n",
              "      flex-wrap:wrap;\n",
              "      gap: 12px;\n",
              "    }\n",
              "\n",
              "    .colab-df-convert {\n",
              "      background-color: #E8F0FE;\n",
              "      border: none;\n",
              "      border-radius: 50%;\n",
              "      cursor: pointer;\n",
              "      display: none;\n",
              "      fill: #1967D2;\n",
              "      height: 32px;\n",
              "      padding: 0 0 0 0;\n",
              "      width: 32px;\n",
              "    }\n",
              "\n",
              "    .colab-df-convert:hover {\n",
              "      background-color: #E2EBFA;\n",
              "      box-shadow: 0px 1px 2px rgba(60, 64, 67, 0.3), 0px 1px 3px 1px rgba(60, 64, 67, 0.15);\n",
              "      fill: #174EA6;\n",
              "    }\n",
              "\n",
              "    [theme=dark] .colab-df-convert {\n",
              "      background-color: #3B4455;\n",
              "      fill: #D2E3FC;\n",
              "    }\n",
              "\n",
              "    [theme=dark] .colab-df-convert:hover {\n",
              "      background-color: #434B5C;\n",
              "      box-shadow: 0px 1px 3px 1px rgba(0, 0, 0, 0.15);\n",
              "      filter: drop-shadow(0px 1px 2px rgba(0, 0, 0, 0.3));\n",
              "      fill: #FFFFFF;\n",
              "    }\n",
              "  </style>\n",
              "\n",
              "      <script>\n",
              "        const buttonEl =\n",
              "          document.querySelector('#df-d1e7961d-9d77-425a-942b-6028a222b44c button.colab-df-convert');\n",
              "        buttonEl.style.display =\n",
              "          google.colab.kernel.accessAllowed ? 'block' : 'none';\n",
              "\n",
              "        async function convertToInteractive(key) {\n",
              "          const element = document.querySelector('#df-d1e7961d-9d77-425a-942b-6028a222b44c');\n",
              "          const dataTable =\n",
              "            await google.colab.kernel.invokeFunction('convertToInteractive',\n",
              "                                                     [key], {});\n",
              "          if (!dataTable) return;\n",
              "\n",
              "          const docLinkHtml = 'Like what you see? Visit the ' +\n",
              "            '<a target=\"_blank\" href=https://colab.research.google.com/notebooks/data_table.ipynb>data table notebook</a>'\n",
              "            + ' to learn more about interactive tables.';\n",
              "          element.innerHTML = '';\n",
              "          dataTable['output_type'] = 'display_data';\n",
              "          await google.colab.output.renderOutput(dataTable, element);\n",
              "          const docLink = document.createElement('div');\n",
              "          docLink.innerHTML = docLinkHtml;\n",
              "          element.appendChild(docLink);\n",
              "        }\n",
              "      </script>\n",
              "    </div>\n",
              "  </div>\n",
              "  "
            ]
          },
          "metadata": {},
          "execution_count": 139
        }
      ]
    },
    {
      "cell_type": "code",
      "source": [
        "heart.tail()\n",
        "\n",
        "# Menampilkan 5 row terakhir dari dataset"
      ],
      "metadata": {
        "colab": {
          "base_uri": "https://localhost:8080/",
          "height": 206
        },
        "id": "ffo6Ri7HQErH",
        "outputId": "c164089a-ec5b-4c1b-92a0-771cc39e09e3"
      },
      "execution_count": 140,
      "outputs": [
        {
          "output_type": "execute_result",
          "data": {
            "text/plain": [
              "     Age Sex ChestPainType  RestingBP  Cholesterol  FastingBS RestingECG  \\\n",
              "913   45   M            TA        110          264          0     Normal   \n",
              "914   68   M           ASY        144          193          1     Normal   \n",
              "915   57   M           ASY        130          131          0     Normal   \n",
              "916   57   F           ATA        130          236          0        LVH   \n",
              "917   38   M           NAP        138          175          0     Normal   \n",
              "\n",
              "     MaxHR ExerciseAngina  Oldpeak ST_Slope  HeartDisease  \n",
              "913    132              N      1.2     Flat             1  \n",
              "914    141              N      3.4     Flat             1  \n",
              "915    115              Y      1.2     Flat             1  \n",
              "916    174              N      0.0     Flat             1  \n",
              "917    173              N      0.0       Up             0  "
            ],
            "text/html": [
              "\n",
              "  <div id=\"df-e176317a-d146-4685-9ffb-73f7649263af\">\n",
              "    <div class=\"colab-df-container\">\n",
              "      <div>\n",
              "<style scoped>\n",
              "    .dataframe tbody tr th:only-of-type {\n",
              "        vertical-align: middle;\n",
              "    }\n",
              "\n",
              "    .dataframe tbody tr th {\n",
              "        vertical-align: top;\n",
              "    }\n",
              "\n",
              "    .dataframe thead th {\n",
              "        text-align: right;\n",
              "    }\n",
              "</style>\n",
              "<table border=\"1\" class=\"dataframe\">\n",
              "  <thead>\n",
              "    <tr style=\"text-align: right;\">\n",
              "      <th></th>\n",
              "      <th>Age</th>\n",
              "      <th>Sex</th>\n",
              "      <th>ChestPainType</th>\n",
              "      <th>RestingBP</th>\n",
              "      <th>Cholesterol</th>\n",
              "      <th>FastingBS</th>\n",
              "      <th>RestingECG</th>\n",
              "      <th>MaxHR</th>\n",
              "      <th>ExerciseAngina</th>\n",
              "      <th>Oldpeak</th>\n",
              "      <th>ST_Slope</th>\n",
              "      <th>HeartDisease</th>\n",
              "    </tr>\n",
              "  </thead>\n",
              "  <tbody>\n",
              "    <tr>\n",
              "      <th>913</th>\n",
              "      <td>45</td>\n",
              "      <td>M</td>\n",
              "      <td>TA</td>\n",
              "      <td>110</td>\n",
              "      <td>264</td>\n",
              "      <td>0</td>\n",
              "      <td>Normal</td>\n",
              "      <td>132</td>\n",
              "      <td>N</td>\n",
              "      <td>1.2</td>\n",
              "      <td>Flat</td>\n",
              "      <td>1</td>\n",
              "    </tr>\n",
              "    <tr>\n",
              "      <th>914</th>\n",
              "      <td>68</td>\n",
              "      <td>M</td>\n",
              "      <td>ASY</td>\n",
              "      <td>144</td>\n",
              "      <td>193</td>\n",
              "      <td>1</td>\n",
              "      <td>Normal</td>\n",
              "      <td>141</td>\n",
              "      <td>N</td>\n",
              "      <td>3.4</td>\n",
              "      <td>Flat</td>\n",
              "      <td>1</td>\n",
              "    </tr>\n",
              "    <tr>\n",
              "      <th>915</th>\n",
              "      <td>57</td>\n",
              "      <td>M</td>\n",
              "      <td>ASY</td>\n",
              "      <td>130</td>\n",
              "      <td>131</td>\n",
              "      <td>0</td>\n",
              "      <td>Normal</td>\n",
              "      <td>115</td>\n",
              "      <td>Y</td>\n",
              "      <td>1.2</td>\n",
              "      <td>Flat</td>\n",
              "      <td>1</td>\n",
              "    </tr>\n",
              "    <tr>\n",
              "      <th>916</th>\n",
              "      <td>57</td>\n",
              "      <td>F</td>\n",
              "      <td>ATA</td>\n",
              "      <td>130</td>\n",
              "      <td>236</td>\n",
              "      <td>0</td>\n",
              "      <td>LVH</td>\n",
              "      <td>174</td>\n",
              "      <td>N</td>\n",
              "      <td>0.0</td>\n",
              "      <td>Flat</td>\n",
              "      <td>1</td>\n",
              "    </tr>\n",
              "    <tr>\n",
              "      <th>917</th>\n",
              "      <td>38</td>\n",
              "      <td>M</td>\n",
              "      <td>NAP</td>\n",
              "      <td>138</td>\n",
              "      <td>175</td>\n",
              "      <td>0</td>\n",
              "      <td>Normal</td>\n",
              "      <td>173</td>\n",
              "      <td>N</td>\n",
              "      <td>0.0</td>\n",
              "      <td>Up</td>\n",
              "      <td>0</td>\n",
              "    </tr>\n",
              "  </tbody>\n",
              "</table>\n",
              "</div>\n",
              "      <button class=\"colab-df-convert\" onclick=\"convertToInteractive('df-e176317a-d146-4685-9ffb-73f7649263af')\"\n",
              "              title=\"Convert this dataframe to an interactive table.\"\n",
              "              style=\"display:none;\">\n",
              "        \n",
              "  <svg xmlns=\"http://www.w3.org/2000/svg\" height=\"24px\"viewBox=\"0 0 24 24\"\n",
              "       width=\"24px\">\n",
              "    <path d=\"M0 0h24v24H0V0z\" fill=\"none\"/>\n",
              "    <path d=\"M18.56 5.44l.94 2.06.94-2.06 2.06-.94-2.06-.94-.94-2.06-.94 2.06-2.06.94zm-11 1L8.5 8.5l.94-2.06 2.06-.94-2.06-.94L8.5 2.5l-.94 2.06-2.06.94zm10 10l.94 2.06.94-2.06 2.06-.94-2.06-.94-.94-2.06-.94 2.06-2.06.94z\"/><path d=\"M17.41 7.96l-1.37-1.37c-.4-.4-.92-.59-1.43-.59-.52 0-1.04.2-1.43.59L10.3 9.45l-7.72 7.72c-.78.78-.78 2.05 0 2.83L4 21.41c.39.39.9.59 1.41.59.51 0 1.02-.2 1.41-.59l7.78-7.78 2.81-2.81c.8-.78.8-2.07 0-2.86zM5.41 20L4 18.59l7.72-7.72 1.47 1.35L5.41 20z\"/>\n",
              "  </svg>\n",
              "      </button>\n",
              "      \n",
              "  <style>\n",
              "    .colab-df-container {\n",
              "      display:flex;\n",
              "      flex-wrap:wrap;\n",
              "      gap: 12px;\n",
              "    }\n",
              "\n",
              "    .colab-df-convert {\n",
              "      background-color: #E8F0FE;\n",
              "      border: none;\n",
              "      border-radius: 50%;\n",
              "      cursor: pointer;\n",
              "      display: none;\n",
              "      fill: #1967D2;\n",
              "      height: 32px;\n",
              "      padding: 0 0 0 0;\n",
              "      width: 32px;\n",
              "    }\n",
              "\n",
              "    .colab-df-convert:hover {\n",
              "      background-color: #E2EBFA;\n",
              "      box-shadow: 0px 1px 2px rgba(60, 64, 67, 0.3), 0px 1px 3px 1px rgba(60, 64, 67, 0.15);\n",
              "      fill: #174EA6;\n",
              "    }\n",
              "\n",
              "    [theme=dark] .colab-df-convert {\n",
              "      background-color: #3B4455;\n",
              "      fill: #D2E3FC;\n",
              "    }\n",
              "\n",
              "    [theme=dark] .colab-df-convert:hover {\n",
              "      background-color: #434B5C;\n",
              "      box-shadow: 0px 1px 3px 1px rgba(0, 0, 0, 0.15);\n",
              "      filter: drop-shadow(0px 1px 2px rgba(0, 0, 0, 0.3));\n",
              "      fill: #FFFFFF;\n",
              "    }\n",
              "  </style>\n",
              "\n",
              "      <script>\n",
              "        const buttonEl =\n",
              "          document.querySelector('#df-e176317a-d146-4685-9ffb-73f7649263af button.colab-df-convert');\n",
              "        buttonEl.style.display =\n",
              "          google.colab.kernel.accessAllowed ? 'block' : 'none';\n",
              "\n",
              "        async function convertToInteractive(key) {\n",
              "          const element = document.querySelector('#df-e176317a-d146-4685-9ffb-73f7649263af');\n",
              "          const dataTable =\n",
              "            await google.colab.kernel.invokeFunction('convertToInteractive',\n",
              "                                                     [key], {});\n",
              "          if (!dataTable) return;\n",
              "\n",
              "          const docLinkHtml = 'Like what you see? Visit the ' +\n",
              "            '<a target=\"_blank\" href=https://colab.research.google.com/notebooks/data_table.ipynb>data table notebook</a>'\n",
              "            + ' to learn more about interactive tables.';\n",
              "          element.innerHTML = '';\n",
              "          dataTable['output_type'] = 'display_data';\n",
              "          await google.colab.output.renderOutput(dataTable, element);\n",
              "          const docLink = document.createElement('div');\n",
              "          docLink.innerHTML = docLinkHtml;\n",
              "          element.appendChild(docLink);\n",
              "        }\n",
              "      </script>\n",
              "    </div>\n",
              "  </div>\n",
              "  "
            ]
          },
          "metadata": {},
          "execution_count": 140
        }
      ]
    },
    {
      "cell_type": "code",
      "source": [
        "heart.shape\n",
        "\n",
        "\n",
        "# Memberitahu bahwa dataset ini memiliki 918 row / baris dan terdapat 12 kolom"
      ],
      "metadata": {
        "colab": {
          "base_uri": "https://localhost:8080/"
        },
        "id": "tcrhIyngQxkJ",
        "outputId": "fdc032f5-78d4-4f51-89a7-244b2d3324e5"
      },
      "execution_count": 141,
      "outputs": [
        {
          "output_type": "execute_result",
          "data": {
            "text/plain": [
              "(918, 12)"
            ]
          },
          "metadata": {},
          "execution_count": 141
        }
      ]
    },
    {
      "cell_type": "code",
      "source": [
        "heart.info()\n",
        "\n",
        "# Menampilkan tipe data dari atribut2 yang ada"
      ],
      "metadata": {
        "colab": {
          "base_uri": "https://localhost:8080/"
        },
        "id": "Yas9gSy7QtmH",
        "outputId": "bc8676f9-8617-4ccb-d531-ee91b01bcc83"
      },
      "execution_count": 142,
      "outputs": [
        {
          "output_type": "stream",
          "name": "stdout",
          "text": [
            "<class 'pandas.core.frame.DataFrame'>\n",
            "RangeIndex: 918 entries, 0 to 917\n",
            "Data columns (total 12 columns):\n",
            " #   Column          Non-Null Count  Dtype  \n",
            "---  ------          --------------  -----  \n",
            " 0   Age             918 non-null    int64  \n",
            " 1   Sex             918 non-null    object \n",
            " 2   ChestPainType   918 non-null    object \n",
            " 3   RestingBP       918 non-null    int64  \n",
            " 4   Cholesterol     918 non-null    int64  \n",
            " 5   FastingBS       918 non-null    int64  \n",
            " 6   RestingECG      918 non-null    object \n",
            " 7   MaxHR           918 non-null    int64  \n",
            " 8   ExerciseAngina  918 non-null    object \n",
            " 9   Oldpeak         918 non-null    float64\n",
            " 10  ST_Slope        918 non-null    object \n",
            " 11  HeartDisease    918 non-null    int64  \n",
            "dtypes: float64(1), int64(6), object(5)\n",
            "memory usage: 86.2+ KB\n"
          ]
        }
      ]
    },
    {
      "cell_type": "markdown",
      "source": [
        "###Data Visualization"
      ],
      "metadata": {
        "id": "0_qbLVLtV6I1"
      }
    },
    {
      "cell_type": "markdown",
      "source": [
        "####Comparison"
      ],
      "metadata": {
        "id": "Yr7BiZnkWJ19"
      }
    },
    {
      "cell_type": "code",
      "source": [
        "sns.countplot(data = heart,x=\"HeartDisease\")"
      ],
      "metadata": {
        "colab": {
          "base_uri": "https://localhost:8080/",
          "height": 297
        },
        "id": "94lbl7r4Wsbc",
        "outputId": "88f31169-5ee4-415a-8a1e-2f4bd19255fd"
      },
      "execution_count": 143,
      "outputs": [
        {
          "output_type": "execute_result",
          "data": {
            "text/plain": [
              "<Axes: xlabel='HeartDisease', ylabel='count'>"
            ]
          },
          "metadata": {},
          "execution_count": 143
        },
        {
          "output_type": "display_data",
          "data": {
            "text/plain": [
              "<Figure size 432x288 with 1 Axes>"
            ],
            "image/png": "[encoded data removed]"
          },
          "metadata": {
            "needs_background": "light"
          }
        }
      ]
    },
    {
      "cell_type": "code",
      "source": [
        "heart.HeartDisease.value_counts()"
      ],
      "metadata": {
        "colab": {
          "base_uri": "https://localhost:8080/"
        },
        "id": "Ci9_8bbwY2gM",
        "outputId": "f867bc89-ae69-414f-d20f-c21608bcb3f5"
      },
      "execution_count": 144,
      "outputs": [
        {
          "output_type": "execute_result",
          "data": {
            "text/plain": [
              "1    508\n",
              "0    410\n",
              "Name: HeartDisease, dtype: int64"
            ]
          },
          "metadata": {},
          "execution_count": 144
        }
      ]
    },
    {
      "cell_type": "markdown",
      "source": [
        "\n",
        "\n",
        "---\n",
        "\n"
      ],
      "metadata": {
        "id": "XevNd696Y64D"
      }
    },
    {
      "cell_type": "code",
      "source": [
        "sns.countplot(data = heart,x=\"Sex\")"
      ],
      "metadata": {
        "colab": {
          "base_uri": "https://localhost:8080/",
          "height": 297
        },
        "id": "hu7YDs4GWF7F",
        "outputId": "c7522b73-1b94-462c-ffdc-7805104737cd"
      },
      "execution_count": 145,
      "outputs": [
        {
          "output_type": "execute_result",
          "data": {
            "text/plain": [
              "<Axes: xlabel='Sex', ylabel='count'>"
            ]
          },
          "metadata": {},
          "execution_count": 145
        },
        {
          "output_type": "display_data",
          "data": {
            "text/plain": [
              "<Figure size 432x288 with 1 Axes>"
            ],
            "image/png": "[encoded data removed]"
          },
          "metadata": {
            "needs_background": "light"
          }
        }
      ]
    },
    {
      "cell_type": "code",
      "source": [
        "heart.Sex.value_counts()"
      ],
      "metadata": {
        "colab": {
          "base_uri": "https://localhost:8080/"
        },
        "id": "WRp4RskAYytj",
        "outputId": "9e226f75-86b8-4970-e72a-93dfa153e8de"
      },
      "execution_count": 146,
      "outputs": [
        {
          "output_type": "execute_result",
          "data": {
            "text/plain": [
              "M    725\n",
              "F    193\n",
              "Name: Sex, dtype: int64"
            ]
          },
          "metadata": {},
          "execution_count": 146
        }
      ]
    },
    {
      "cell_type": "markdown",
      "source": [
        "\n",
        "\n",
        "---\n",
        "\n"
      ],
      "metadata": {
        "id": "oRPK3XWeZouT"
      }
    },
    {
      "cell_type": "code",
      "source": [
        "sns.countplot(data = heart,x=\"ChestPainType\")"
      ],
      "metadata": {
        "colab": {
          "base_uri": "https://localhost:8080/",
          "height": 297
        },
        "id": "OnNhy206fHPo",
        "outputId": "a0a0c96a-401a-456a-8cd0-624e33aed5da"
      },
      "execution_count": 147,
      "outputs": [
        {
          "output_type": "execute_result",
          "data": {
            "text/plain": [
              "<Axes: xlabel='ChestPainType', ylabel='count'>"
            ]
          },
          "metadata": {},
          "execution_count": 147
        },
        {
          "output_type": "display_data",
          "data": {
            "text/plain": [
              "<Figure size 432x288 with 1 Axes>"
            ],
            "image/png": "[encoded data removed]"
          },
          "metadata": {
            "needs_background": "light"
          }
        }
      ]
    },
    {
      "cell_type": "markdown",
      "source": [
        "\n",
        "\n",
        "---\n"
      ],
      "metadata": {
        "id": "XRiesTGdfSpI"
      }
    },
    {
      "cell_type": "code",
      "source": [
        "sns.countplot(data = heart,x=\"RestingECG\")"
      ],
      "metadata": {
        "colab": {
          "base_uri": "https://localhost:8080/",
          "height": 297
        },
        "id": "2IiBqrCXfUyY",
        "outputId": "b4aadd0b-f724-4879-ca54-79cc81fc8d4f"
      },
      "execution_count": 148,
      "outputs": [
        {
          "output_type": "execute_result",
          "data": {
            "text/plain": [
              "<Axes: xlabel='RestingECG', ylabel='count'>"
            ]
          },
          "metadata": {},
          "execution_count": 148
        },
        {
          "output_type": "display_data",
          "data": {
            "text/plain": [
              "<Figure size 432x288 with 1 Axes>"
            ],
            "image/png": "[encoded data removed]"
          },
          "metadata": {
            "needs_background": "light"
          }
        }
      ]
    },
    {
      "cell_type": "markdown",
      "source": [
        "\n",
        "\n",
        "---\n",
        "\n"
      ],
      "metadata": {
        "id": "MsYjmzUafniQ"
      }
    },
    {
      "cell_type": "code",
      "source": [
        "sns.countplot(data = heart,x=\"ExerciseAngina\")"
      ],
      "metadata": {
        "colab": {
          "base_uri": "https://localhost:8080/",
          "height": 297
        },
        "id": "BN7OtXWsfZTx",
        "outputId": "7a330818-b10d-4e2e-af62-0549d4faab73"
      },
      "execution_count": 149,
      "outputs": [
        {
          "output_type": "execute_result",
          "data": {
            "text/plain": [
              "<Axes: xlabel='ExerciseAngina', ylabel='count'>"
            ]
          },
          "metadata": {},
          "execution_count": 149
        },
        {
          "output_type": "display_data",
          "data": {
            "text/plain": [
              "<Figure size 432x288 with 1 Axes>"
            ],
            "image/png": "[encoded data removed]"
          },
          "metadata": {
            "needs_background": "light"
          }
        }
      ]
    },
    {
      "cell_type": "markdown",
      "source": [
        "\n",
        "\n",
        "---\n",
        "\n"
      ],
      "metadata": {
        "id": "s1c_s7bAfoWQ"
      }
    },
    {
      "cell_type": "code",
      "source": [
        "sns.countplot(data = heart,x=\"ST_Slope\")"
      ],
      "metadata": {
        "colab": {
          "base_uri": "https://localhost:8080/",
          "height": 298
        },
        "id": "bnjv9LxKfbhA",
        "outputId": "3d847e38-be14-41a1-b783-3d241dcb5043"
      },
      "execution_count": 150,
      "outputs": [
        {
          "output_type": "execute_result",
          "data": {
            "text/plain": [
              "<Axes: xlabel='ST_Slope', ylabel='count'>"
            ]
          },
          "metadata": {},
          "execution_count": 150
        },
        {
          "output_type": "display_data",
          "data": {
            "text/plain": [
              "<Figure size 432x288 with 1 Axes>"
            ],
            "image/png": "[encoded data removed]"
          },
          "metadata": {
            "needs_background": "light"
          }
        }
      ]
    },
    {
      "cell_type": "markdown",
      "source": [
        "\n",
        "\n",
        "---\n",
        "\n"
      ],
      "metadata": {
        "id": "lF85ddsxfpu_"
      }
    },
    {
      "cell_type": "markdown",
      "source": [
        "Menampilkan berapa banyak gender HeartDisease (yang terkena penyakit jantung)"
      ],
      "metadata": {
        "id": "IAT3pdvcaF_L"
      }
    },
    {
      "cell_type": "code",
      "source": [
        "sns.countplot(data = heart,y=\"Sex\", hue=\"HeartDisease\")"
      ],
      "metadata": {
        "colab": {
          "base_uri": "https://localhost:8080/",
          "height": 297
        },
        "id": "7AoaEX62ZxfD",
        "outputId": "33e09984-b5e6-457b-f5a2-2ec9c51a4b6e"
      },
      "execution_count": 152,
      "outputs": [
        {
          "output_type": "execute_result",
          "data": {
            "text/plain": [
              "<Axes: xlabel='count', ylabel='Sex'>"
            ]
          },
          "metadata": {},
          "execution_count": 152
        },
        {
          "output_type": "display_data",
          "data": {
            "text/plain": [
              "<Figure size 432x288 with 1 Axes>"
            ],
            "image/png": "[encoded data removed]"
          },
          "metadata": {
            "needs_background": "light"
          }
        }
      ]
    },
    {
      "cell_type": "markdown",
      "source": [
        "\n",
        "\n",
        "---\n",
        "\n"
      ],
      "metadata": {
        "id": "jIndHT7WaAiK"
      }
    },
    {
      "cell_type": "markdown",
      "source": [
        "####Distribution"
      ],
      "metadata": {
        "id": "J-wYvskhargK"
      }
    },
    {
      "cell_type": "code",
      "source": [
        "sns.histplot(data = heart, x = \"Age\",kde = True)"
      ],
      "metadata": {
        "colab": {
          "base_uri": "https://localhost:8080/",
          "height": 297
        },
        "id": "9c-8KQF_arAr",
        "outputId": "0fd908b6-5b90-4e6e-db39-e18cd8237992"
      },
      "execution_count": 153,
      "outputs": [
        {
          "output_type": "execute_result",
          "data": {
            "text/plain": [
              "<Axes: xlabel='Age', ylabel='Count'>"
            ]
          },
          "metadata": {},
          "execution_count": 153
        },
        {
          "output_type": "display_data",
          "data": {
            "text/plain": [
              "<Figure size 432x288 with 1 Axes>"
            ],
            "image/png": "[encoded data removed]"
          },
          "metadata": {
            "needs_background": "light"
          }
        }
      ]
    },
    {
      "cell_type": "markdown",
      "source": [
        "\n",
        "\n",
        "---\n",
        "\n"
      ],
      "metadata": {
        "id": "_GDUHOLmeB0q"
      }
    },
    {
      "cell_type": "code",
      "source": [
        "sns.kdeplot(data = heart, x = \"RestingBP\")"
      ],
      "metadata": {
        "colab": {
          "base_uri": "https://localhost:8080/",
          "height": 297
        },
        "id": "tkPW_nmCgRtY",
        "outputId": "77630082-95ae-4e54-f7d0-dbd807916e1c"
      },
      "execution_count": 154,
      "outputs": [
        {
          "output_type": "execute_result",
          "data": {
            "text/plain": [
              "<Axes: xlabel='RestingBP', ylabel='Density'>"
            ]
          },
          "metadata": {},
          "execution_count": 154
        },
        {
          "output_type": "display_data",
          "data": {
            "text/plain": [
              "<Figure size 432x288 with 1 Axes>"
            ],
            "image/png": "[encoded data removed]"
          },
          "metadata": {
            "needs_background": "light"
          }
        }
      ]
    },
    {
      "cell_type": "markdown",
      "source": [
        "\n",
        "\n",
        "---\n",
        "\n"
      ],
      "metadata": {
        "id": "1EGCt1FUgwAa"
      }
    },
    {
      "cell_type": "code",
      "source": [
        "sns.kdeplot(data = heart, x = \"Cholesterol\")"
      ],
      "metadata": {
        "colab": {
          "base_uri": "https://localhost:8080/",
          "height": 297
        },
        "id": "e9D0qaD4gTjn",
        "outputId": "c3245965-b73f-40fc-d9ce-58f55e6631b7"
      },
      "execution_count": 155,
      "outputs": [
        {
          "output_type": "execute_result",
          "data": {
            "text/plain": [
              "<Axes: xlabel='Cholesterol', ylabel='Density'>"
            ]
          },
          "metadata": {},
          "execution_count": 155
        },
        {
          "output_type": "display_data",
          "data": {
            "text/plain": [
              "<Figure size 432x288 with 1 Axes>"
            ],
            "image/png": "[encoded data removed]"
          },
          "metadata": {
            "needs_background": "light"
          }
        }
      ]
    },
    {
      "cell_type": "markdown",
      "source": [
        "\n",
        "\n",
        "---\n",
        "\n"
      ],
      "metadata": {
        "id": "WsdbsMdvgxZG"
      }
    },
    {
      "cell_type": "code",
      "source": [
        "sns.kdeplot(data = heart, x = \"MaxHR\")"
      ],
      "metadata": {
        "colab": {
          "base_uri": "https://localhost:8080/",
          "height": 298
        },
        "id": "ggOioUV_h5h2",
        "outputId": "8eca948d-a6c4-4065-f503-fc864a3d6957"
      },
      "execution_count": 156,
      "outputs": [
        {
          "output_type": "execute_result",
          "data": {
            "text/plain": [
              "<Axes: xlabel='MaxHR', ylabel='Density'>"
            ]
          },
          "metadata": {},
          "execution_count": 156
        },
        {
          "output_type": "display_data",
          "data": {
            "text/plain": [
              "<Figure size 432x288 with 1 Axes>"
            ],
            "image/png": "[encoded data removed]"
          },
          "metadata": {
            "needs_background": "light"
          }
        }
      ]
    },
    {
      "cell_type": "markdown",
      "source": [
        "\n",
        "\n",
        "---\n",
        "\n"
      ],
      "metadata": {
        "id": "-ROQj1dRh-_e"
      }
    },
    {
      "cell_type": "markdown",
      "source": [
        "Menampilkan umur pasien yang terkena penyakit jantung banyak berada di umur 50 - 60an"
      ],
      "metadata": {
        "id": "Nq4yQDfFeCjQ"
      }
    },
    {
      "cell_type": "code",
      "source": [
        "sns.boxplot(data = heart, x = \"HeartDisease\", y=\"Age\")"
      ],
      "metadata": {
        "colab": {
          "base_uri": "https://localhost:8080/",
          "height": 297
        },
        "id": "AD1AKfjJcrFx",
        "outputId": "a549f6f7-351d-46bc-c3ba-e0cb4632233a"
      },
      "execution_count": 157,
      "outputs": [
        {
          "output_type": "execute_result",
          "data": {
            "text/plain": [
              "<Axes: xlabel='HeartDisease', ylabel='Age'>"
            ]
          },
          "metadata": {},
          "execution_count": 157
        },
        {
          "output_type": "display_data",
          "data": {
            "text/plain": [
              "<Figure size 432x288 with 1 Axes>"
            ],
            "image/png": "[encoded data removed]"
          },
          "metadata": {
            "needs_background": "light"
          }
        }
      ]
    },
    {
      "cell_type": "markdown",
      "source": [
        "####Relationship"
      ],
      "metadata": {
        "id": "QseALKEPg9ke"
      }
    },
    {
      "cell_type": "code",
      "source": [
        "sns.scatterplot(data = heart, x=\"Age\", y=\"Cholesterol\")"
      ],
      "metadata": {
        "colab": {
          "base_uri": "https://localhost:8080/",
          "height": 297
        },
        "id": "TBXv3eUBhRNP",
        "outputId": "33700c7b-c1f9-42fb-a251-7d95a4824d9e"
      },
      "execution_count": 158,
      "outputs": [
        {
          "output_type": "execute_result",
          "data": {
            "text/plain": [
              "<Axes: xlabel='Age', ylabel='Cholesterol'>"
            ]
          },
          "metadata": {},
          "execution_count": 158
        },
        {
          "output_type": "display_data",
          "data": {
            "text/plain": [
              "<Figure size 432x288 with 1 Axes>"
            ],
            "image/png": "[encoded data removed]"
          },
          "metadata": {
            "needs_background": "light"
          }
        }
      ]
    },
    {
      "cell_type": "code",
      "source": [
        "sns.scatterplot(data = heart, x=\"Age\", y=\"RestingBP\")"
      ],
      "metadata": {
        "colab": {
          "base_uri": "https://localhost:8080/",
          "height": 297
        },
        "id": "ftSgya_1hl0G",
        "outputId": "c67b3bdd-21ce-4f8a-db80-683a33d7b3d1"
      },
      "execution_count": 159,
      "outputs": [
        {
          "output_type": "execute_result",
          "data": {
            "text/plain": [
              "<Axes: xlabel='Age', ylabel='RestingBP'>"
            ]
          },
          "metadata": {},
          "execution_count": 159
        },
        {
          "output_type": "display_data",
          "data": {
            "text/plain": [
              "<Figure size 432x288 with 1 Axes>"
            ],
            "image/png": "[encoded data removed]"
          },
          "metadata": {
            "needs_background": "light"
          }
        }
      ]
    },
    {
      "cell_type": "code",
      "source": [
        "sns.scatterplot(data = heart, x=\"Age\", y=\"MaxHR\")"
      ],
      "metadata": {
        "colab": {
          "base_uri": "https://localhost:8080/",
          "height": 297
        },
        "id": "PTLTKtiZiG6I",
        "outputId": "62350231-7739-47f9-d88a-866f30605ce1"
      },
      "execution_count": 160,
      "outputs": [
        {
          "output_type": "execute_result",
          "data": {
            "text/plain": [
              "<Axes: xlabel='Age', ylabel='MaxHR'>"
            ]
          },
          "metadata": {},
          "execution_count": 160
        },
        {
          "output_type": "display_data",
          "data": {
            "text/plain": [
              "<Figure size 432x288 with 1 Axes>"
            ],
            "image/png": "[encoded data removed]"
          },
          "metadata": {
            "needs_background": "light"
          }
        }
      ]
    },
    {
      "cell_type": "markdown",
      "source": [
        "###Composisiton"
      ],
      "metadata": {
        "id": "-VbjMiPZizOm"
      }
    },
    {
      "cell_type": "code",
      "source": [
        "sex_comp = heart[heart['HeartDisease'] == 1]['Sex'].value_counts().reset_index()\n",
        "#https://plotly.com/python/pie-charts/"
      ],
      "metadata": {
        "id": "_CnZ-Ny3l6st"
      },
      "execution_count": 161,
      "outputs": []
    },
    {
      "cell_type": "code",
      "source": [
        "sex_comp"
      ],
      "metadata": {
        "colab": {
          "base_uri": "https://localhost:8080/",
          "height": 112
        },
        "id": "kcgliWb4Z2XB",
        "outputId": "bf298411-31ae-4d93-c87f-d5487c621995"
      },
      "execution_count": 162,
      "outputs": [
        {
          "output_type": "execute_result",
          "data": {
            "text/plain": [
              "  index  Sex\n",
              "0     M  458\n",
              "1     F   50"
            ],
            "text/html": [
              "\n",
              "  <div id=\"df-1099f7b3-24b7-4c84-ab73-05bd85bf05f4\">\n",
              "    <div class=\"colab-df-container\">\n",
              "      <div>\n",
              "<style scoped>\n",
              "    .dataframe tbody tr th:only-of-type {\n",
              "        vertical-align: middle;\n",
              "    }\n",
              "\n",
              "    .dataframe tbody tr th {\n",
              "        vertical-align: top;\n",
              "    }\n",
              "\n",
              "    .dataframe thead th {\n",
              "        text-align: right;\n",
              "    }\n",
              "</style>\n",
              "<table border=\"1\" class=\"dataframe\">\n",
              "  <thead>\n",
              "    <tr style=\"text-align: right;\">\n",
              "      <th></th>\n",
              "      <th>index</th>\n",
              "      <th>Sex</th>\n",
              "    </tr>\n",
              "  </thead>\n",
              "  <tbody>\n",
              "    <tr>\n",
              "      <th>0</th>\n",
              "      <td>M</td>\n",
              "      <td>458</td>\n",
              "    </tr>\n",
              "    <tr>\n",
              "      <th>1</th>\n",
              "      <td>F</td>\n",
              "      <td>50</td>\n",
              "    </tr>\n",
              "  </tbody>\n",
              "</table>\n",
              "</div>\n",
              "      <button class=\"colab-df-convert\" onclick=\"convertToInteractive('df-1099f7b3-24b7-4c84-ab73-05bd85bf05f4')\"\n",
              "              title=\"Convert this dataframe to an interactive table.\"\n",
              "              style=\"display:none;\">\n",
              "        \n",
              "  <svg xmlns=\"http://www.w3.org/2000/svg\" height=\"24px\"viewBox=\"0 0 24 24\"\n",
              "       width=\"24px\">\n",
              "    <path d=\"M0 0h24v24H0V0z\" fill=\"none\"/>\n",
              "    <path d=\"M18.56 5.44l.94 2.06.94-2.06 2.06-.94-2.06-.94-.94-2.06-.94 2.06-2.06.94zm-11 1L8.5 8.5l.94-2.06 2.06-.94-2.06-.94L8.5 2.5l-.94 2.06-2.06.94zm10 10l.94 2.06.94-2.06 2.06-.94-2.06-.94-.94-2.06-.94 2.06-2.06.94z\"/><path d=\"M17.41 7.96l-1.37-1.37c-.4-.4-.92-.59-1.43-.59-.52 0-1.04.2-1.43.59L10.3 9.45l-7.72 7.72c-.78.78-.78 2.05 0 2.83L4 21.41c.39.39.9.59 1.41.59.51 0 1.02-.2 1.41-.59l7.78-7.78 2.81-2.81c.8-.78.8-2.07 0-2.86zM5.41 20L4 18.59l7.72-7.72 1.47 1.35L5.41 20z\"/>\n",
              "  </svg>\n",
              "      </button>\n",
              "      \n",
              "  <style>\n",
              "    .colab-df-container {\n",
              "      display:flex;\n",
              "      flex-wrap:wrap;\n",
              "      gap: 12px;\n",
              "    }\n",
              "\n",
              "    .colab-df-convert {\n",
              "      background-color: #E8F0FE;\n",
              "      border: none;\n",
              "      border-radius: 50%;\n",
              "      cursor: pointer;\n",
              "      display: none;\n",
              "      fill: #1967D2;\n",
              "      height: 32px;\n",
              "      padding: 0 0 0 0;\n",
              "      width: 32px;\n",
              "    }\n",
              "\n",
              "    .colab-df-convert:hover {\n",
              "      background-color: #E2EBFA;\n",
              "      box-shadow: 0px 1px 2px rgba(60, 64, 67, 0.3), 0px 1px 3px 1px rgba(60, 64, 67, 0.15);\n",
              "      fill: #174EA6;\n",
              "    }\n",
              "\n",
              "    [theme=dark] .colab-df-convert {\n",
              "      background-color: #3B4455;\n",
              "      fill: #D2E3FC;\n",
              "    }\n",
              "\n",
              "    [theme=dark] .colab-df-convert:hover {\n",
              "      background-color: #434B5C;\n",
              "      box-shadow: 0px 1px 3px 1px rgba(0, 0, 0, 0.15);\n",
              "      filter: drop-shadow(0px 1px 2px rgba(0, 0, 0, 0.3));\n",
              "      fill: #FFFFFF;\n",
              "    }\n",
              "  </style>\n",
              "\n",
              "      <script>\n",
              "        const buttonEl =\n",
              "          document.querySelector('#df-1099f7b3-24b7-4c84-ab73-05bd85bf05f4 button.colab-df-convert');\n",
              "        buttonEl.style.display =\n",
              "          google.colab.kernel.accessAllowed ? 'block' : 'none';\n",
              "\n",
              "        async function convertToInteractive(key) {\n",
              "          const element = document.querySelector('#df-1099f7b3-24b7-4c84-ab73-05bd85bf05f4');\n",
              "          const dataTable =\n",
              "            await google.colab.kernel.invokeFunction('convertToInteractive',\n",
              "                                                     [key], {});\n",
              "          if (!dataTable) return;\n",
              "\n",
              "          const docLinkHtml = 'Like what you see? Visit the ' +\n",
              "            '<a target=\"_blank\" href=https://colab.research.google.com/notebooks/data_table.ipynb>data table notebook</a>'\n",
              "            + ' to learn more about interactive tables.';\n",
              "          element.innerHTML = '';\n",
              "          dataTable['output_type'] = 'display_data';\n",
              "          await google.colab.output.renderOutput(dataTable, element);\n",
              "          const docLink = document.createElement('div');\n",
              "          docLink.innerHTML = docLinkHtml;\n",
              "          element.appendChild(docLink);\n",
              "        }\n",
              "      </script>\n",
              "    </div>\n",
              "  </div>\n",
              "  "
            ]
          },
          "metadata": {},
          "execution_count": 162
        }
      ]
    },
    {
      "cell_type": "markdown",
      "source": [
        "\n",
        "\n",
        "> Menampilkan jumlah gender (laki2 / perempuan) yang banyak terkana penyakit jantung\n",
        "\n"
      ],
      "metadata": {
        "id": "vjgUfRtWaw-4"
      }
    },
    {
      "cell_type": "code",
      "source": [
        "px.pie(names=sex_comp.index,values=sex_comp.Sex )"
      ],
      "metadata": {
        "colab": {
          "base_uri": "https://localhost:8080/",
          "height": 542
        },
        "id": "Ftl1_lDyZcp6",
        "outputId": "87830fda-88e9-4c08-e095-d584d4706d98"
      },
      "execution_count": 163,
      "outputs": [
        {
          "output_type": "display_data",
          "data": {
            "text/html": [
              "<html>\n",
              "<head><meta charset=\"utf-8\" /></head>\n",
              "<body>\n",
              "    <div>            <script src=\"https://cdnjs.cloudflare.com/ajax/libs/mathjax/2.7.5/MathJax.js?config=TeX-AMS-MML_SVG\"></script><script type=\"text/javascript\">if (window.MathJax && window.MathJax.Hub && window.MathJax.Hub.Config) {window.MathJax.Hub.Config({SVG: {font: \"STIX-Web\"}});}</script>                <script type=\"text/javascript\">window.PlotlyConfig = {MathJaxConfig: 'local'};</script>\n",
              "        <script src=\"https://cdn.plot.ly/plotly-2.18.2.min.js\"></script>                <div id=\"1f0fd181-3a0c-48e0-8721-95494a6f0f71\" class=\"plotly-graph-div\" style=\"height:525px; width:100%;\"></div>            <script type=\"text/javascript\">                                    window.PLOTLYENV=window.PLOTLYENV || {};                                    if (document.getElementById(\"1f0fd181-3a0c-48e0-8721-95494a6f0f71\")) {                    Plotly.newPlot(                        \"1f0fd181-3a0c-48e0-8721-95494a6f0f71\",                        [{\"domain\":{\"x\":[0.0,1.0],\"y\":[0.0,1.0]},\"hovertemplate\":\"label=%{label}<br>value=%{value}<extra></extra>\",\"labels\":[0,1],\"legendgroup\":\"\",\"name\":\"\",\"showlegend\":true,\"values\":[458,50],\"type\":\"pie\"}],                        {\"template\":{\"data\":{\"histogram2dcontour\":[{\"type\":\"histogram2dcontour\",\"colorbar\":{\"outlinewidth\":0,\"ticks\":\"\"},\"colorscale\":[[0.0,\"#0d0887\"],[0.1111111111111111,\"#46039f\"],[0.2222222222222222,\"#7201a8\"],[0.3333333333333333,\"#9c179e\"],[0.4444444444444444,\"#bd3786\"],[0.5555555555555556,\"#d8576b\"],[0.6666666666666666,\"#ed7953\"],[0.7777777777777778,\"#fb9f3a\"],[0.8888888888888888,\"#fdca26\"],[1.0,\"#f0f921\"]]}],\"choropleth\":[{\"type\":\"choropleth\",\"colorbar\":{\"outlinewidth\":0,\"ticks\":\"\"}}],\"histogram2d\":[{\"type\":\"histogram2d\",\"colorbar\":{\"outlinewidth\":0,\"ticks\":\"\"},\"colorscale\":[[0.0,\"#0d0887\"],[0.1111111111111111,\"#46039f\"],[0.2222222222222222,\"#7201a8\"],[0.3333333333333333,\"#9c179e\"],[0.4444444444444444,\"#bd3786\"],[0.5555555555555556,\"#d8576b\"],[0.6666666666666666,\"#ed7953\"],[0.7777777777777778,\"#fb9f3a\"],[0.8888888888888888,\"#fdca26\"],[1.0,\"#f0f921\"]]}],\"heatmap\":[{\"type\":\"heatmap\",\"colorbar\":{\"outlinewidth\":0,\"ticks\":\"\"},\"colorscale\":[[0.0,\"#0d0887\"],[0.1111111111111111,\"#46039f\"],[0.2222222222222222,\"#7201a8\"],[0.3333333333333333,\"#9c179e\"],[0.4444444444444444,\"#bd3786\"],[0.5555555555555556,\"#d8576b\"],[0.6666666666666666,\"#ed7953\"],[0.7777777777777778,\"#fb9f3a\"],[0.8888888888888888,\"#fdca26\"],[1.0,\"#f0f921\"]]}],\"heatmapgl\":[{\"type\":\"heatmapgl\",\"colorbar\":{\"outlinewidth\":0,\"ticks\":\"\"},\"colorscale\":[[0.0,\"#0d0887\"],[0.1111111111111111,\"#46039f\"],[0.2222222222222222,\"#7201a8\"],[0.3333333333333333,\"#9c179e\"],[0.4444444444444444,\"#bd3786\"],[0.5555555555555556,\"#d8576b\"],[0.6666666666666666,\"#ed7953\"],[0.7777777777777778,\"#fb9f3a\"],[0.8888888888888888,\"#fdca26\"],[1.0,\"#f0f921\"]]}],\"contourcarpet\":[{\"type\":\"contourcarpet\",\"colorbar\":{\"outlinewidth\":0,\"ticks\":\"\"}}],\"contour\":[{\"type\":\"contour\",\"colorbar\":{\"outlinewidth\":0,\"ticks\":\"\"},\"colorscale\":[[0.0,\"#0d0887\"],[0.1111111111111111,\"#46039f\"],[0.2222222222222222,\"#7201a8\"],[0.3333333333333333,\"#9c179e\"],[0.4444444444444444,\"#bd3786\"],[0.5555555555555556,\"#d8576b\"],[0.6666666666666666,\"#ed7953\"],[0.7777777777777778,\"#fb9f3a\"],[0.8888888888888888,\"#fdca26\"],[1.0,\"#f0f921\"]]}],\"surface\":[{\"type\":\"surface\",\"colorbar\":{\"outlinewidth\":0,\"ticks\":\"\"},\"colorscale\":[[0.0,\"#0d0887\"],[0.1111111111111111,\"#46039f\"],[0.2222222222222222,\"#7201a8\"],[0.3333333333333333,\"#9c179e\"],[0.4444444444444444,\"#bd3786\"],[0.5555555555555556,\"#d8576b\"],[0.6666666666666666,\"#ed7953\"],[0.7777777777777778,\"#fb9f3a\"],[0.8888888888888888,\"#fdca26\"],[1.0,\"#f0f921\"]]}],\"mesh3d\":[{\"type\":\"mesh3d\",\"colorbar\":{\"outlinewidth\":0,\"ticks\":\"\"}}],\"scatter\":[{\"fillpattern\":{\"fillmode\":\"overlay\",\"size\":10,\"solidity\":0.2},\"type\":\"scatter\"}],\"parcoords\":[{\"type\":\"parcoords\",\"line\":{\"colorbar\":{\"outlinewidth\":0,\"ticks\":\"\"}}}],\"scatterpolargl\":[{\"type\":\"scatterpolargl\",\"marker\":{\"colorbar\":{\"outlinewidth\":0,\"ticks\":\"\"}}}],\"bar\":[{\"error_x\":{\"color\":\"#2a3f5f\"},\"error_y\":{\"color\":\"#2a3f5f\"},\"marker\":{\"line\":{\"color\":\"#E5ECF6\",\"width\":0.5},\"pattern\":{\"fillmode\":\"overlay\",\"size\":10,\"solidity\":0.2}},\"type\":\"bar\"}],\"scattergeo\":[{\"type\":\"scattergeo\",\"marker\":{\"colorbar\":{\"outlinewidth\":0,\"ticks\":\"\"}}}],\"scatterpolar\":[{\"type\":\"scatterpolar\",\"marker\":{\"colorbar\":{\"outlinewidth\":0,\"ticks\":\"\"}}}],\"histogram\":[{\"marker\":{\"pattern\":{\"fillmode\":\"overlay\",\"size\":10,\"solidity\":0.2}},\"type\":\"histogram\"}],\"scattergl\":[{\"type\":\"scattergl\",\"marker\":{\"colorbar\":{\"outlinewidth\":0,\"ticks\":\"\"}}}],\"scatter3d\":[{\"type\":\"scatter3d\",\"line\":{\"colorbar\":{\"outlinewidth\":0,\"ticks\":\"\"}},\"marker\":{\"colorbar\":{\"outlinewidth\":0,\"ticks\":\"\"}}}],\"scattermapbox\":[{\"type\":\"scattermapbox\",\"marker\":{\"colorbar\":{\"outlinewidth\":0,\"ticks\":\"\"}}}],\"scatterternary\":[{\"type\":\"scatterternary\",\"marker\":{\"colorbar\":{\"outlinewidth\":0,\"ticks\":\"\"}}}],\"scattercarpet\":[{\"type\":\"scattercarpet\",\"marker\":{\"colorbar\":{\"outlinewidth\":0,\"ticks\":\"\"}}}],\"carpet\":[{\"aaxis\":{\"endlinecolor\":\"#2a3f5f\",\"gridcolor\":\"white\",\"linecolor\":\"white\",\"minorgridcolor\":\"white\",\"startlinecolor\":\"#2a3f5f\"},\"baxis\":{\"endlinecolor\":\"#2a3f5f\",\"gridcolor\":\"white\",\"linecolor\":\"white\",\"minorgridcolor\":\"white\",\"startlinecolor\":\"#2a3f5f\"},\"type\":\"carpet\"}],\"table\":[{\"cells\":{\"fill\":{\"color\":\"#EBF0F8\"},\"line\":{\"color\":\"white\"}},\"header\":{\"fill\":{\"color\":\"#C8D4E3\"},\"line\":{\"color\":\"white\"}},\"type\":\"table\"}],\"barpolar\":[{\"marker\":{\"line\":{\"color\":\"#E5ECF6\",\"width\":0.5},\"pattern\":{\"fillmode\":\"overlay\",\"size\":10,\"solidity\":0.2}},\"type\":\"barpolar\"}],\"pie\":[{\"automargin\":true,\"type\":\"pie\"}]},\"layout\":{\"autotypenumbers\":\"strict\",\"colorway\":[\"#636efa\",\"#EF553B\",\"#00cc96\",\"#ab63fa\",\"#FFA15A\",\"#19d3f3\",\"#FF6692\",\"#B6E880\",\"#FF97FF\",\"#FECB52\"],\"font\":{\"color\":\"#2a3f5f\"},\"hovermode\":\"closest\",\"hoverlabel\":{\"align\":\"left\"},\"paper_bgcolor\":\"white\",\"plot_bgcolor\":\"#E5ECF6\",\"polar\":{\"bgcolor\":\"#E5ECF6\",\"angularaxis\":{\"gridcolor\":\"white\",\"linecolor\":\"white\",\"ticks\":\"\"},\"radialaxis\":{\"gridcolor\":\"white\",\"linecolor\":\"white\",\"ticks\":\"\"}},\"ternary\":{\"bgcolor\":\"#E5ECF6\",\"aaxis\":{\"gridcolor\":\"white\",\"linecolor\":\"white\",\"ticks\":\"\"},\"baxis\":{\"gridcolor\":\"white\",\"linecolor\":\"white\",\"ticks\":\"\"},\"caxis\":{\"gridcolor\":\"white\",\"linecolor\":\"white\",\"ticks\":\"\"}},\"coloraxis\":{\"colorbar\":{\"outlinewidth\":0,\"ticks\":\"\"}},\"colorscale\":{\"sequential\":[[0.0,\"#0d0887\"],[0.1111111111111111,\"#46039f\"],[0.2222222222222222,\"#7201a8\"],[0.3333333333333333,\"#9c179e\"],[0.4444444444444444,\"#bd3786\"],[0.5555555555555556,\"#d8576b\"],[0.6666666666666666,\"#ed7953\"],[0.7777777777777778,\"#fb9f3a\"],[0.8888888888888888,\"#fdca26\"],[1.0,\"#f0f921\"]],\"sequentialminus\":[[0.0,\"#0d0887\"],[0.1111111111111111,\"#46039f\"],[0.2222222222222222,\"#7201a8\"],[0.3333333333333333,\"#9c179e\"],[0.4444444444444444,\"#bd3786\"],[0.5555555555555556,\"#d8576b\"],[0.6666666666666666,\"#ed7953\"],[0.7777777777777778,\"#fb9f3a\"],[0.8888888888888888,\"#fdca26\"],[1.0,\"#f0f921\"]],\"diverging\":[[0,\"#8e0152\"],[0.1,\"#c51b7d\"],[0.2,\"#de77ae\"],[0.3,\"#f1b6da\"],[0.4,\"#fde0ef\"],[0.5,\"#f7f7f7\"],[0.6,\"#e6f5d0\"],[0.7,\"#b8e186\"],[0.8,\"#7fbc41\"],[0.9,\"#4d9221\"],[1,\"#276419\"]]},\"xaxis\":{\"gridcolor\":\"white\",\"linecolor\":\"white\",\"ticks\":\"\",\"title\":{\"standoff\":15},\"zerolinecolor\":\"white\",\"automargin\":true,\"zerolinewidth\":2},\"yaxis\":{\"gridcolor\":\"white\",\"linecolor\":\"white\",\"ticks\":\"\",\"title\":{\"standoff\":15},\"zerolinecolor\":\"white\",\"automargin\":true,\"zerolinewidth\":2},\"scene\":{\"xaxis\":{\"backgroundcolor\":\"#E5ECF6\",\"gridcolor\":\"white\",\"linecolor\":\"white\",\"showbackground\":true,\"ticks\":\"\",\"zerolinecolor\":\"white\",\"gridwidth\":2},\"yaxis\":{\"backgroundcolor\":\"#E5ECF6\",\"gridcolor\":\"white\",\"linecolor\":\"white\",\"showbackground\":true,\"ticks\":\"\",\"zerolinecolor\":\"white\",\"gridwidth\":2},\"zaxis\":{\"backgroundcolor\":\"#E5ECF6\",\"gridcolor\":\"white\",\"linecolor\":\"white\",\"showbackground\":true,\"ticks\":\"\",\"zerolinecolor\":\"white\",\"gridwidth\":2}},\"shapedefaults\":{\"line\":{\"color\":\"#2a3f5f\"}},\"annotationdefaults\":{\"arrowcolor\":\"#2a3f5f\",\"arrowhead\":0,\"arrowwidth\":1},\"geo\":{\"bgcolor\":\"white\",\"landcolor\":\"#E5ECF6\",\"subunitcolor\":\"white\",\"showland\":true,\"showlakes\":true,\"lakecolor\":\"white\"},\"title\":{\"x\":0.05},\"mapbox\":{\"style\":\"light\"}}},\"legend\":{\"tracegroupgap\":0},\"margin\":{\"t\":60}},                        {\"responsive\": true}                    ).then(function(){\n",
              "                            \n",
              "var gd = document.getElementById('1f0fd181-3a0c-48e0-8721-95494a6f0f71');\n",
              "var x = new MutationObserver(function (mutations, observer) {{\n",
              "        var display = window.getComputedStyle(gd).display;\n",
              "        if (!display || display === 'none') {{\n",
              "            console.log([gd, 'removed!']);\n",
              "            Plotly.purge(gd);\n",
              "            observer.disconnect();\n",
              "        }}\n",
              "}});\n",
              "\n",
              "// Listen for the removal of the full notebook cells\n",
              "var notebookContainer = gd.closest('#notebook-container');\n",
              "if (notebookContainer) {{\n",
              "    x.observe(notebookContainer, {childList: true});\n",
              "}}\n",
              "\n",
              "// Listen for the clearing of the current output cell\n",
              "var outputEl = gd.closest('.output');\n",
              "if (outputEl) {{\n",
              "    x.observe(outputEl, {childList: true});\n",
              "}}\n",
              "\n",
              "                        })                };                            </script>        </div>\n",
              "</body>\n",
              "</html>"
            ]
          },
          "metadata": {}
        }
      ]
    },
    {
      "cell_type": "markdown",
      "source": [
        "\n",
        "\n",
        "---\n",
        "\n"
      ],
      "metadata": {
        "id": "Ne6f3RuNamyg"
      }
    },
    {
      "cell_type": "code",
      "source": [
        "HeartDisease_comp = heart.HeartDisease.value_counts().reset_index()"
      ],
      "metadata": {
        "id": "dZTy2vhvaiT4"
      },
      "execution_count": 164,
      "outputs": []
    },
    {
      "cell_type": "code",
      "source": [
        "px.pie(names=HeartDisease_comp.index,values=HeartDisease_comp.HeartDisease )"
      ],
      "metadata": {
        "colab": {
          "base_uri": "https://localhost:8080/",
          "height": 542
        },
        "id": "eAavra6MmG9U",
        "outputId": "255ce6cc-ae03-4e66-fcef-871698eac038"
      },
      "execution_count": 165,
      "outputs": [
        {
          "output_type": "display_data",
          "data": {
            "text/html": [
              "<html>\n",
              "<head><meta charset=\"utf-8\" /></head>\n",
              "<body>\n",
              "    <div>            <script src=\"https://cdnjs.cloudflare.com/ajax/libs/mathjax/2.7.5/MathJax.js?config=TeX-AMS-MML_SVG\"></script><script type=\"text/javascript\">if (window.MathJax && window.MathJax.Hub && window.MathJax.Hub.Config) {window.MathJax.Hub.Config({SVG: {font: \"STIX-Web\"}});}</script>                <script type=\"text/javascript\">window.PlotlyConfig = {MathJaxConfig: 'local'};</script>\n",
              "        <script src=\"https://cdn.plot.ly/plotly-2.18.2.min.js\"></script>                <div id=\"5e62a292-d16a-4d3a-8987-08b696651ffb\" class=\"plotly-graph-div\" style=\"height:525px; width:100%;\"></div>            <script type=\"text/javascript\">                                    window.PLOTLYENV=window.PLOTLYENV || {};                                    if (document.getElementById(\"5e62a292-d16a-4d3a-8987-08b696651ffb\")) {                    Plotly.newPlot(                        \"5e62a292-d16a-4d3a-8987-08b696651ffb\",                        [{\"domain\":{\"x\":[0.0,1.0],\"y\":[0.0,1.0]},\"hovertemplate\":\"label=%{label}<br>value=%{value}<extra></extra>\",\"labels\":[0,1],\"legendgroup\":\"\",\"name\":\"\",\"showlegend\":true,\"values\":[508,410],\"type\":\"pie\"}],                        {\"template\":{\"data\":{\"histogram2dcontour\":[{\"type\":\"histogram2dcontour\",\"colorbar\":{\"outlinewidth\":0,\"ticks\":\"\"},\"colorscale\":[[0.0,\"#0d0887\"],[0.1111111111111111,\"#46039f\"],[0.2222222222222222,\"#7201a8\"],[0.3333333333333333,\"#9c179e\"],[0.4444444444444444,\"#bd3786\"],[0.5555555555555556,\"#d8576b\"],[0.6666666666666666,\"#ed7953\"],[0.7777777777777778,\"#fb9f3a\"],[0.8888888888888888,\"#fdca26\"],[1.0,\"#f0f921\"]]}],\"choropleth\":[{\"type\":\"choropleth\",\"colorbar\":{\"outlinewidth\":0,\"ticks\":\"\"}}],\"histogram2d\":[{\"type\":\"histogram2d\",\"colorbar\":{\"outlinewidth\":0,\"ticks\":\"\"},\"colorscale\":[[0.0,\"#0d0887\"],[0.1111111111111111,\"#46039f\"],[0.2222222222222222,\"#7201a8\"],[0.3333333333333333,\"#9c179e\"],[0.4444444444444444,\"#bd3786\"],[0.5555555555555556,\"#d8576b\"],[0.6666666666666666,\"#ed7953\"],[0.7777777777777778,\"#fb9f3a\"],[0.8888888888888888,\"#fdca26\"],[1.0,\"#f0f921\"]]}],\"heatmap\":[{\"type\":\"heatmap\",\"colorbar\":{\"outlinewidth\":0,\"ticks\":\"\"},\"colorscale\":[[0.0,\"#0d0887\"],[0.1111111111111111,\"#46039f\"],[0.2222222222222222,\"#7201a8\"],[0.3333333333333333,\"#9c179e\"],[0.4444444444444444,\"#bd3786\"],[0.5555555555555556,\"#d8576b\"],[0.6666666666666666,\"#ed7953\"],[0.7777777777777778,\"#fb9f3a\"],[0.8888888888888888,\"#fdca26\"],[1.0,\"#f0f921\"]]}],\"heatmapgl\":[{\"type\":\"heatmapgl\",\"colorbar\":{\"outlinewidth\":0,\"ticks\":\"\"},\"colorscale\":[[0.0,\"#0d0887\"],[0.1111111111111111,\"#46039f\"],[0.2222222222222222,\"#7201a8\"],[0.3333333333333333,\"#9c179e\"],[0.4444444444444444,\"#bd3786\"],[0.5555555555555556,\"#d8576b\"],[0.6666666666666666,\"#ed7953\"],[0.7777777777777778,\"#fb9f3a\"],[0.8888888888888888,\"#fdca26\"],[1.0,\"#f0f921\"]]}],\"contourcarpet\":[{\"type\":\"contourcarpet\",\"colorbar\":{\"outlinewidth\":0,\"ticks\":\"\"}}],\"contour\":[{\"type\":\"contour\",\"colorbar\":{\"outlinewidth\":0,\"ticks\":\"\"},\"colorscale\":[[0.0,\"#0d0887\"],[0.1111111111111111,\"#46039f\"],[0.2222222222222222,\"#7201a8\"],[0.3333333333333333,\"#9c179e\"],[0.4444444444444444,\"#bd3786\"],[0.5555555555555556,\"#d8576b\"],[0.6666666666666666,\"#ed7953\"],[0.7777777777777778,\"#fb9f3a\"],[0.8888888888888888,\"#fdca26\"],[1.0,\"#f0f921\"]]}],\"surface\":[{\"type\":\"surface\",\"colorbar\":{\"outlinewidth\":0,\"ticks\":\"\"},\"colorscale\":[[0.0,\"#0d0887\"],[0.1111111111111111,\"#46039f\"],[0.2222222222222222,\"#7201a8\"],[0.3333333333333333,\"#9c179e\"],[0.4444444444444444,\"#bd3786\"],[0.5555555555555556,\"#d8576b\"],[0.6666666666666666,\"#ed7953\"],[0.7777777777777778,\"#fb9f3a\"],[0.8888888888888888,\"#fdca26\"],[1.0,\"#f0f921\"]]}],\"mesh3d\":[{\"type\":\"mesh3d\",\"colorbar\":{\"outlinewidth\":0,\"ticks\":\"\"}}],\"scatter\":[{\"fillpattern\":{\"fillmode\":\"overlay\",\"size\":10,\"solidity\":0.2},\"type\":\"scatter\"}],\"parcoords\":[{\"type\":\"parcoords\",\"line\":{\"colorbar\":{\"outlinewidth\":0,\"ticks\":\"\"}}}],\"scatterpolargl\":[{\"type\":\"scatterpolargl\",\"marker\":{\"colorbar\":{\"outlinewidth\":0,\"ticks\":\"\"}}}],\"bar\":[{\"error_x\":{\"color\":\"#2a3f5f\"},\"error_y\":{\"color\":\"#2a3f5f\"},\"marker\":{\"line\":{\"color\":\"#E5ECF6\",\"width\":0.5},\"pattern\":{\"fillmode\":\"overlay\",\"size\":10,\"solidity\":0.2}},\"type\":\"bar\"}],\"scattergeo\":[{\"type\":\"scattergeo\",\"marker\":{\"colorbar\":{\"outlinewidth\":0,\"ticks\":\"\"}}}],\"scatterpolar\":[{\"type\":\"scatterpolar\",\"marker\":{\"colorbar\":{\"outlinewidth\":0,\"ticks\":\"\"}}}],\"histogram\":[{\"marker\":{\"pattern\":{\"fillmode\":\"overlay\",\"size\":10,\"solidity\":0.2}},\"type\":\"histogram\"}],\"scattergl\":[{\"type\":\"scattergl\",\"marker\":{\"colorbar\":{\"outlinewidth\":0,\"ticks\":\"\"}}}],\"scatter3d\":[{\"type\":\"scatter3d\",\"line\":{\"colorbar\":{\"outlinewidth\":0,\"ticks\":\"\"}},\"marker\":{\"colorbar\":{\"outlinewidth\":0,\"ticks\":\"\"}}}],\"scattermapbox\":[{\"type\":\"scattermapbox\",\"marker\":{\"colorbar\":{\"outlinewidth\":0,\"ticks\":\"\"}}}],\"scatterternary\":[{\"type\":\"scatterternary\",\"marker\":{\"colorbar\":{\"outlinewidth\":0,\"ticks\":\"\"}}}],\"scattercarpet\":[{\"type\":\"scattercarpet\",\"marker\":{\"colorbar\":{\"outlinewidth\":0,\"ticks\":\"\"}}}],\"carpet\":[{\"aaxis\":{\"endlinecolor\":\"#2a3f5f\",\"gridcolor\":\"white\",\"linecolor\":\"white\",\"minorgridcolor\":\"white\",\"startlinecolor\":\"#2a3f5f\"},\"baxis\":{\"endlinecolor\":\"#2a3f5f\",\"gridcolor\":\"white\",\"linecolor\":\"white\",\"minorgridcolor\":\"white\",\"startlinecolor\":\"#2a3f5f\"},\"type\":\"carpet\"}],\"table\":[{\"cells\":{\"fill\":{\"color\":\"#EBF0F8\"},\"line\":{\"color\":\"white\"}},\"header\":{\"fill\":{\"color\":\"#C8D4E3\"},\"line\":{\"color\":\"white\"}},\"type\":\"table\"}],\"barpolar\":[{\"marker\":{\"line\":{\"color\":\"#E5ECF6\",\"width\":0.5},\"pattern\":{\"fillmode\":\"overlay\",\"size\":10,\"solidity\":0.2}},\"type\":\"barpolar\"}],\"pie\":[{\"automargin\":true,\"type\":\"pie\"}]},\"layout\":{\"autotypenumbers\":\"strict\",\"colorway\":[\"#636efa\",\"#EF553B\",\"#00cc96\",\"#ab63fa\",\"#FFA15A\",\"#19d3f3\",\"#FF6692\",\"#B6E880\",\"#FF97FF\",\"#FECB52\"],\"font\":{\"color\":\"#2a3f5f\"},\"hovermode\":\"closest\",\"hoverlabel\":{\"align\":\"left\"},\"paper_bgcolor\":\"white\",\"plot_bgcolor\":\"#E5ECF6\",\"polar\":{\"bgcolor\":\"#E5ECF6\",\"angularaxis\":{\"gridcolor\":\"white\",\"linecolor\":\"white\",\"ticks\":\"\"},\"radialaxis\":{\"gridcolor\":\"white\",\"linecolor\":\"white\",\"ticks\":\"\"}},\"ternary\":{\"bgcolor\":\"#E5ECF6\",\"aaxis\":{\"gridcolor\":\"white\",\"linecolor\":\"white\",\"ticks\":\"\"},\"baxis\":{\"gridcolor\":\"white\",\"linecolor\":\"white\",\"ticks\":\"\"},\"caxis\":{\"gridcolor\":\"white\",\"linecolor\":\"white\",\"ticks\":\"\"}},\"coloraxis\":{\"colorbar\":{\"outlinewidth\":0,\"ticks\":\"\"}},\"colorscale\":{\"sequential\":[[0.0,\"#0d0887\"],[0.1111111111111111,\"#46039f\"],[0.2222222222222222,\"#7201a8\"],[0.3333333333333333,\"#9c179e\"],[0.4444444444444444,\"#bd3786\"],[0.5555555555555556,\"#d8576b\"],[0.6666666666666666,\"#ed7953\"],[0.7777777777777778,\"#fb9f3a\"],[0.8888888888888888,\"#fdca26\"],[1.0,\"#f0f921\"]],\"sequentialminus\":[[0.0,\"#0d0887\"],[0.1111111111111111,\"#46039f\"],[0.2222222222222222,\"#7201a8\"],[0.3333333333333333,\"#9c179e\"],[0.4444444444444444,\"#bd3786\"],[0.5555555555555556,\"#d8576b\"],[0.6666666666666666,\"#ed7953\"],[0.7777777777777778,\"#fb9f3a\"],[0.8888888888888888,\"#fdca26\"],[1.0,\"#f0f921\"]],\"diverging\":[[0,\"#8e0152\"],[0.1,\"#c51b7d\"],[0.2,\"#de77ae\"],[0.3,\"#f1b6da\"],[0.4,\"#fde0ef\"],[0.5,\"#f7f7f7\"],[0.6,\"#e6f5d0\"],[0.7,\"#b8e186\"],[0.8,\"#7fbc41\"],[0.9,\"#4d9221\"],[1,\"#276419\"]]},\"xaxis\":{\"gridcolor\":\"white\",\"linecolor\":\"white\",\"ticks\":\"\",\"title\":{\"standoff\":15},\"zerolinecolor\":\"white\",\"automargin\":true,\"zerolinewidth\":2},\"yaxis\":{\"gridcolor\":\"white\",\"linecolor\":\"white\",\"ticks\":\"\",\"title\":{\"standoff\":15},\"zerolinecolor\":\"white\",\"automargin\":true,\"zerolinewidth\":2},\"scene\":{\"xaxis\":{\"backgroundcolor\":\"#E5ECF6\",\"gridcolor\":\"white\",\"linecolor\":\"white\",\"showbackground\":true,\"ticks\":\"\",\"zerolinecolor\":\"white\",\"gridwidth\":2},\"yaxis\":{\"backgroundcolor\":\"#E5ECF6\",\"gridcolor\":\"white\",\"linecolor\":\"white\",\"showbackground\":true,\"ticks\":\"\",\"zerolinecolor\":\"white\",\"gridwidth\":2},\"zaxis\":{\"backgroundcolor\":\"#E5ECF6\",\"gridcolor\":\"white\",\"linecolor\":\"white\",\"showbackground\":true,\"ticks\":\"\",\"zerolinecolor\":\"white\",\"gridwidth\":2}},\"shapedefaults\":{\"line\":{\"color\":\"#2a3f5f\"}},\"annotationdefaults\":{\"arrowcolor\":\"#2a3f5f\",\"arrowhead\":0,\"arrowwidth\":1},\"geo\":{\"bgcolor\":\"white\",\"landcolor\":\"#E5ECF6\",\"subunitcolor\":\"white\",\"showland\":true,\"showlakes\":true,\"lakecolor\":\"white\"},\"title\":{\"x\":0.05},\"mapbox\":{\"style\":\"light\"}}},\"legend\":{\"tracegroupgap\":0},\"margin\":{\"t\":60}},                        {\"responsive\": true}                    ).then(function(){\n",
              "                            \n",
              "var gd = document.getElementById('5e62a292-d16a-4d3a-8987-08b696651ffb');\n",
              "var x = new MutationObserver(function (mutations, observer) {{\n",
              "        var display = window.getComputedStyle(gd).display;\n",
              "        if (!display || display === 'none') {{\n",
              "            console.log([gd, 'removed!']);\n",
              "            Plotly.purge(gd);\n",
              "            observer.disconnect();\n",
              "        }}\n",
              "}});\n",
              "\n",
              "// Listen for the removal of the full notebook cells\n",
              "var notebookContainer = gd.closest('#notebook-container');\n",
              "if (notebookContainer) {{\n",
              "    x.observe(notebookContainer, {childList: true});\n",
              "}}\n",
              "\n",
              "// Listen for the clearing of the current output cell\n",
              "var outputEl = gd.closest('.output');\n",
              "if (outputEl) {{\n",
              "    x.observe(outputEl, {childList: true});\n",
              "}}\n",
              "\n",
              "                        })                };                            </script>        </div>\n",
              "</body>\n",
              "</html>"
            ]
          },
          "metadata": {}
        }
      ]
    },
    {
      "cell_type": "markdown",
      "source": [
        "##Data Preparation"
      ],
      "metadata": {
        "id": "2dxNRxQo_Kts"
      }
    },
    {
      "cell_type": "markdown",
      "source": [
        "###Cleaning Data"
      ],
      "metadata": {
        "id": "BAOSiWfUA6Lt"
      }
    },
    {
      "cell_type": "markdown",
      "source": [
        "\n",
        "\n",
        "> Tidak terdapat kolom yang harus di *drop* karena semua mempunyai informasi penting tersendiri. Kecuali jika ada kolom nama, maka kolom tersebut harus didrop."
      ],
      "metadata": {
        "id": "XMhXWYTCEG5C"
      }
    },
    {
      "cell_type": "code",
      "source": [
        "duplicateRows = heart[heart.duplicated()]\n",
        "duplicateRows\n",
        "\n",
        "# Mengecek apakah ada duplikat"
      ],
      "metadata": {
        "colab": {
          "base_uri": "https://localhost:8080/",
          "height": 49
        },
        "id": "AdbC2LsDAC8d",
        "outputId": "6e440df6-bfb3-4a63-edd2-6f48aa1e74dd"
      },
      "execution_count": 166,
      "outputs": [
        {
          "output_type": "execute_result",
          "data": {
            "text/plain": [
              "Empty DataFrame\n",
              "Columns: [Age, Sex, ChestPainType, RestingBP, Cholesterol, FastingBS, RestingECG, MaxHR, ExerciseAngina, Oldpeak, ST_Slope, HeartDisease]\n",
              "Index: []"
            ],
            "text/html": [
              "\n",
              "  <div id=\"df-05e41e67-04cd-48ff-b8ec-3abff8cba416\">\n",
              "    <div class=\"colab-df-container\">\n",
              "      <div>\n",
              "<style scoped>\n",
              "    .dataframe tbody tr th:only-of-type {\n",
              "        vertical-align: middle;\n",
              "    }\n",
              "\n",
              "    .dataframe tbody tr th {\n",
              "        vertical-align: top;\n",
              "    }\n",
              "\n",
              "    .dataframe thead th {\n",
              "        text-align: right;\n",
              "    }\n",
              "</style>\n",
              "<table border=\"1\" class=\"dataframe\">\n",
              "  <thead>\n",
              "    <tr style=\"text-align: right;\">\n",
              "      <th></th>\n",
              "      <th>Age</th>\n",
              "      <th>Sex</th>\n",
              "      <th>ChestPainType</th>\n",
              "      <th>RestingBP</th>\n",
              "      <th>Cholesterol</th>\n",
              "      <th>FastingBS</th>\n",
              "      <th>RestingECG</th>\n",
              "      <th>MaxHR</th>\n",
              "      <th>ExerciseAngina</th>\n",
              "      <th>Oldpeak</th>\n",
              "      <th>ST_Slope</th>\n",
              "      <th>HeartDisease</th>\n",
              "    </tr>\n",
              "  </thead>\n",
              "  <tbody>\n",
              "  </tbody>\n",
              "</table>\n",
              "</div>\n",
              "      <button class=\"colab-df-convert\" onclick=\"convertToInteractive('df-05e41e67-04cd-48ff-b8ec-3abff8cba416')\"\n",
              "              title=\"Convert this dataframe to an interactive table.\"\n",
              "              style=\"display:none;\">\n",
              "        \n",
              "  <svg xmlns=\"http://www.w3.org/2000/svg\" height=\"24px\"viewBox=\"0 0 24 24\"\n",
              "       width=\"24px\">\n",
              "    <path d=\"M0 0h24v24H0V0z\" fill=\"none\"/>\n",
              "    <path d=\"M18.56 5.44l.94 2.06.94-2.06 2.06-.94-2.06-.94-.94-2.06-.94 2.06-2.06.94zm-11 1L8.5 8.5l.94-2.06 2.06-.94-2.06-.94L8.5 2.5l-.94 2.06-2.06.94zm10 10l.94 2.06.94-2.06 2.06-.94-2.06-.94-.94-2.06-.94 2.06-2.06.94z\"/><path d=\"M17.41 7.96l-1.37-1.37c-.4-.4-.92-.59-1.43-.59-.52 0-1.04.2-1.43.59L10.3 9.45l-7.72 7.72c-.78.78-.78 2.05 0 2.83L4 21.41c.39.39.9.59 1.41.59.51 0 1.02-.2 1.41-.59l7.78-7.78 2.81-2.81c.8-.78.8-2.07 0-2.86zM5.41 20L4 18.59l7.72-7.72 1.47 1.35L5.41 20z\"/>\n",
              "  </svg>\n",
              "      </button>\n",
              "      \n",
              "  <style>\n",
              "    .colab-df-container {\n",
              "      display:flex;\n",
              "      flex-wrap:wrap;\n",
              "      gap: 12px;\n",
              "    }\n",
              "\n",
              "    .colab-df-convert {\n",
              "      background-color: #E8F0FE;\n",
              "      border: none;\n",
              "      border-radius: 50%;\n",
              "      cursor: pointer;\n",
              "      display: none;\n",
              "      fill: #1967D2;\n",
              "      height: 32px;\n",
              "      padding: 0 0 0 0;\n",
              "      width: 32px;\n",
              "    }\n",
              "\n",
              "    .colab-df-convert:hover {\n",
              "      background-color: #E2EBFA;\n",
              "      box-shadow: 0px 1px 2px rgba(60, 64, 67, 0.3), 0px 1px 3px 1px rgba(60, 64, 67, 0.15);\n",
              "      fill: #174EA6;\n",
              "    }\n",
              "\n",
              "    [theme=dark] .colab-df-convert {\n",
              "      background-color: #3B4455;\n",
              "      fill: #D2E3FC;\n",
              "    }\n",
              "\n",
              "    [theme=dark] .colab-df-convert:hover {\n",
              "      background-color: #434B5C;\n",
              "      box-shadow: 0px 1px 3px 1px rgba(0, 0, 0, 0.15);\n",
              "      filter: drop-shadow(0px 1px 2px rgba(0, 0, 0, 0.3));\n",
              "      fill: #FFFFFF;\n",
              "    }\n",
              "  </style>\n",
              "\n",
              "      <script>\n",
              "        const buttonEl =\n",
              "          document.querySelector('#df-05e41e67-04cd-48ff-b8ec-3abff8cba416 button.colab-df-convert');\n",
              "        buttonEl.style.display =\n",
              "          google.colab.kernel.accessAllowed ? 'block' : 'none';\n",
              "\n",
              "        async function convertToInteractive(key) {\n",
              "          const element = document.querySelector('#df-05e41e67-04cd-48ff-b8ec-3abff8cba416');\n",
              "          const dataTable =\n",
              "            await google.colab.kernel.invokeFunction('convertToInteractive',\n",
              "                                                     [key], {});\n",
              "          if (!dataTable) return;\n",
              "\n",
              "          const docLinkHtml = 'Like what you see? Visit the ' +\n",
              "            '<a target=\"_blank\" href=https://colab.research.google.com/notebooks/data_table.ipynb>data table notebook</a>'\n",
              "            + ' to learn more about interactive tables.';\n",
              "          element.innerHTML = '';\n",
              "          dataTable['output_type'] = 'display_data';\n",
              "          await google.colab.output.renderOutput(dataTable, element);\n",
              "          const docLink = document.createElement('div');\n",
              "          docLink.innerHTML = docLinkHtml;\n",
              "          element.appendChild(docLink);\n",
              "        }\n",
              "      </script>\n",
              "    </div>\n",
              "  </div>\n",
              "  "
            ]
          },
          "metadata": {},
          "execution_count": 166
        }
      ]
    },
    {
      "cell_type": "code",
      "source": [
        "heart.isna().sum()\n",
        "\n",
        "# Mengecek apakah ada missing value"
      ],
      "metadata": {
        "id": "ipqxUQqdR-3f",
        "outputId": "967b1989-a38c-42c0-d37a-254a653b5055",
        "colab": {
          "base_uri": "https://localhost:8080/"
        }
      },
      "execution_count": 167,
      "outputs": [
        {
          "output_type": "execute_result",
          "data": {
            "text/plain": [
              "Age               0\n",
              "Sex               0\n",
              "ChestPainType     0\n",
              "RestingBP         0\n",
              "Cholesterol       0\n",
              "FastingBS         0\n",
              "RestingECG        0\n",
              "MaxHR             0\n",
              "ExerciseAngina    0\n",
              "Oldpeak           0\n",
              "ST_Slope          0\n",
              "HeartDisease      0\n",
              "dtype: int64"
            ]
          },
          "metadata": {},
          "execution_count": 167
        }
      ]
    },
    {
      "cell_type": "markdown",
      "source": [
        "###Preprocessing"
      ],
      "metadata": {
        "id": "4TIJOriwBXW9"
      }
    },
    {
      "cell_type": "code",
      "source": [
        "heart_2 = pd.get_dummies(heart)\n",
        "\n",
        "# Encoding / mengubah semua tipe Categorical ke numerik"
      ],
      "metadata": {
        "id": "9V63FQgFJHgZ"
      },
      "execution_count": 168,
      "outputs": []
    },
    {
      "cell_type": "code",
      "source": [
        "heart_2.head(10)"
      ],
      "metadata": {
        "colab": {
          "base_uri": "https://localhost:8080/",
          "height": 456
        },
        "id": "YOywOcjdJ70p",
        "outputId": "a9be600d-eb44-45fe-e244-f7b8ab6a6530"
      },
      "execution_count": 169,
      "outputs": [
        {
          "output_type": "execute_result",
          "data": {
            "text/plain": [
              "   Age  RestingBP  Cholesterol  FastingBS  MaxHR  Oldpeak  HeartDisease  \\\n",
              "0   40        140          289          0    172      0.0             0   \n",
              "1   49        160          180          0    156      1.0             1   \n",
              "2   37        130          283          0     98      0.0             0   \n",
              "3   48        138          214          0    108      1.5             1   \n",
              "4   54        150          195          0    122      0.0             0   \n",
              "5   39        120          339          0    170      0.0             0   \n",
              "6   45        130          237          0    170      0.0             0   \n",
              "7   54        110          208          0    142      0.0             0   \n",
              "8   37        140          207          0    130      1.5             1   \n",
              "9   48        120          284          0    120      0.0             0   \n",
              "\n",
              "   Sex_F  Sex_M  ChestPainType_ASY  ...  ChestPainType_NAP  ChestPainType_TA  \\\n",
              "0      0      1                  0  ...                  0                 0   \n",
              "1      1      0                  0  ...                  1                 0   \n",
              "2      0      1                  0  ...                  0                 0   \n",
              "3      1      0                  1  ...                  0                 0   \n",
              "4      0      1                  0  ...                  1                 0   \n",
              "5      0      1                  0  ...                  1                 0   \n",
              "6      1      0                  0  ...                  0                 0   \n",
              "7      0      1                  0  ...                  0                 0   \n",
              "8      0      1                  1  ...                  0                 0   \n",
              "9      1      0                  0  ...                  0                 0   \n",
              "\n",
              "   RestingECG_LVH  RestingECG_Normal  RestingECG_ST  ExerciseAngina_N  \\\n",
              "0               0                  1              0                 1   \n",
              "1               0                  1              0                 1   \n",
              "2               0                  0              1                 1   \n",
              "3               0                  1              0                 0   \n",
              "4               0                  1              0                 1   \n",
              "5               0                  1              0                 1   \n",
              "6               0                  1              0                 1   \n",
              "7               0                  1              0                 1   \n",
              "8               0                  1              0                 0   \n",
              "9               0                  1              0                 1   \n",
              "\n",
              "   ExerciseAngina_Y  ST_Slope_Down  ST_Slope_Flat  ST_Slope_Up  \n",
              "0                 0              0              0            1  \n",
              "1                 0              0              1            0  \n",
              "2                 0              0              0            1  \n",
              "3                 1              0              1            0  \n",
              "4                 0              0              0            1  \n",
              "5                 0              0              0            1  \n",
              "6                 0              0              0            1  \n",
              "7                 0              0              0            1  \n",
              "8                 1              0              1            0  \n",
              "9                 0              0              0            1  \n",
              "\n",
              "[10 rows x 21 columns]"
            ],
            "text/html": [
              "\n",
              "  <div id=\"df-e7d14951-cd11-4089-866e-92a973b7ea67\">\n",
              "    <div class=\"colab-df-container\">\n",
              "      <div>\n",
              "<style scoped>\n",
              "    .dataframe tbody tr th:only-of-type {\n",
              "        vertical-align: middle;\n",
              "    }\n",
              "\n",
              "    .dataframe tbody tr th {\n",
              "        vertical-align: top;\n",
              "    }\n",
              "\n",
              "    .dataframe thead th {\n",
              "        text-align: right;\n",
              "    }\n",
              "</style>\n",
              "<table border=\"1\" class=\"dataframe\">\n",
              "  <thead>\n",
              "    <tr style=\"text-align: right;\">\n",
              "      <th></th>\n",
              "      <th>Age</th>\n",
              "      <th>RestingBP</th>\n",
              "      <th>Cholesterol</th>\n",
              "      <th>FastingBS</th>\n",
              "      <th>MaxHR</th>\n",
              "      <th>Oldpeak</th>\n",
              "      <th>HeartDisease</th>\n",
              "      <th>Sex_F</th>\n",
              "      <th>Sex_M</th>\n",
              "      <th>ChestPainType_ASY</th>\n",
              "      <th>...</th>\n",
              "      <th>ChestPainType_NAP</th>\n",
              "      <th>ChestPainType_TA</th>\n",
              "      <th>RestingECG_LVH</th>\n",
              "      <th>RestingECG_Normal</th>\n",
              "      <th>RestingECG_ST</th>\n",
              "      <th>ExerciseAngina_N</th>\n",
              "      <th>ExerciseAngina_Y</th>\n",
              "      <th>ST_Slope_Down</th>\n",
              "      <th>ST_Slope_Flat</th>\n",
              "      <th>ST_Slope_Up</th>\n",
              "    </tr>\n",
              "  </thead>\n",
              "  <tbody>\n",
              "    <tr>\n",
              "      <th>0</th>\n",
              "      <td>40</td>\n",
              "      <td>140</td>\n",
              "      <td>289</td>\n",
              "      <td>0</td>\n",
              "      <td>172</td>\n",
              "      <td>0.0</td>\n",
              "      <td>0</td>\n",
              "      <td>0</td>\n",
              "      <td>1</td>\n",
              "      <td>0</td>\n",
              "      <td>...</td>\n",
              "      <td>0</td>\n",
              "      <td>0</td>\n",
              "      <td>0</td>\n",
              "      <td>1</td>\n",
              "      <td>0</td>\n",
              "      <td>1</td>\n",
              "      <td>0</td>\n",
              "      <td>0</td>\n",
              "      <td>0</td>\n",
              "      <td>1</td>\n",
              "    </tr>\n",
              "    <tr>\n",
              "      <th>1</th>\n",
              "      <td>49</td>\n",
              "      <td>160</td>\n",
              "      <td>180</td>\n",
              "      <td>0</td>\n",
              "      <td>156</td>\n",
              "      <td>1.0</td>\n",
              "      <td>1</td>\n",
              "      <td>1</td>\n",
              "      <td>0</td>\n",
              "      <td>0</td>\n",
              "      <td>...</td>\n",
              "      <td>1</td>\n",
              "      <td>0</td>\n",
              "      <td>0</td>\n",
              "      <td>1</td>\n",
              "      <td>0</td>\n",
              "      <td>1</td>\n",
              "      <td>0</td>\n",
              "      <td>0</td>\n",
              "      <td>1</td>\n",
              "      <td>0</td>\n",
              "    </tr>\n",
              "    <tr>\n",
              "      <th>2</th>\n",
              "      <td>37</td>\n",
              "      <td>130</td>\n",
              "      <td>283</td>\n",
              "      <td>0</td>\n",
              "      <td>98</td>\n",
              "      <td>0.0</td>\n",
              "      <td>0</td>\n",
              "      <td>0</td>\n",
              "      <td>1</td>\n",
              "      <td>0</td>\n",
              "      <td>...</td>\n",
              "      <td>0</td>\n",
              "      <td>0</td>\n",
              "      <td>0</td>\n",
              "      <td>0</td>\n",
              "      <td>1</td>\n",
              "      <td>1</td>\n",
              "      <td>0</td>\n",
              "      <td>0</td>\n",
              "      <td>0</td>\n",
              "      <td>1</td>\n",
              "    </tr>\n",
              "    <tr>\n",
              "      <th>3</th>\n",
              "      <td>48</td>\n",
              "      <td>138</td>\n",
              "      <td>214</td>\n",
              "      <td>0</td>\n",
              "      <td>108</td>\n",
              "      <td>1.5</td>\n",
              "      <td>1</td>\n",
              "      <td>1</td>\n",
              "      <td>0</td>\n",
              "      <td>1</td>\n",
              "      <td>...</td>\n",
              "      <td>0</td>\n",
              "      <td>0</td>\n",
              "      <td>0</td>\n",
              "      <td>1</td>\n",
              "      <td>0</td>\n",
              "      <td>0</td>\n",
              "      <td>1</td>\n",
              "      <td>0</td>\n",
              "      <td>1</td>\n",
              "      <td>0</td>\n",
              "    </tr>\n",
              "    <tr>\n",
              "      <th>4</th>\n",
              "      <td>54</td>\n",
              "      <td>150</td>\n",
              "      <td>195</td>\n",
              "      <td>0</td>\n",
              "      <td>122</td>\n",
              "      <td>0.0</td>\n",
              "      <td>0</td>\n",
              "      <td>0</td>\n",
              "      <td>1</td>\n",
              "      <td>0</td>\n",
              "      <td>...</td>\n",
              "      <td>1</td>\n",
              "      <td>0</td>\n",
              "      <td>0</td>\n",
              "      <td>1</td>\n",
              "      <td>0</td>\n",
              "      <td>1</td>\n",
              "      <td>0</td>\n",
              "      <td>0</td>\n",
              "      <td>0</td>\n",
              "      <td>1</td>\n",
              "    </tr>\n",
              "    <tr>\n",
              "      <th>5</th>\n",
              "      <td>39</td>\n",
              "      <td>120</td>\n",
              "      <td>339</td>\n",
              "      <td>0</td>\n",
              "      <td>170</td>\n",
              "      <td>0.0</td>\n",
              "      <td>0</td>\n",
              "      <td>0</td>\n",
              "      <td>1</td>\n",
              "      <td>0</td>\n",
              "      <td>...</td>\n",
              "      <td>1</td>\n",
              "      <td>0</td>\n",
              "      <td>0</td>\n",
              "      <td>1</td>\n",
              "      <td>0</td>\n",
              "      <td>1</td>\n",
              "      <td>0</td>\n",
              "      <td>0</td>\n",
              "      <td>0</td>\n",
              "      <td>1</td>\n",
              "    </tr>\n",
              "    <tr>\n",
              "      <th>6</th>\n",
              "      <td>45</td>\n",
              "      <td>130</td>\n",
              "      <td>237</td>\n",
              "      <td>0</td>\n",
              "      <td>170</td>\n",
              "      <td>0.0</td>\n",
              "      <td>0</td>\n",
              "      <td>1</td>\n",
              "      <td>0</td>\n",
              "      <td>0</td>\n",
              "      <td>...</td>\n",
              "      <td>0</td>\n",
              "      <td>0</td>\n",
              "      <td>0</td>\n",
              "      <td>1</td>\n",
              "      <td>0</td>\n",
              "      <td>1</td>\n",
              "      <td>0</td>\n",
              "      <td>0</td>\n",
              "      <td>0</td>\n",
              "      <td>1</td>\n",
              "    </tr>\n",
              "    <tr>\n",
              "      <th>7</th>\n",
              "      <td>54</td>\n",
              "      <td>110</td>\n",
              "      <td>208</td>\n",
              "      <td>0</td>\n",
              "      <td>142</td>\n",
              "      <td>0.0</td>\n",
              "      <td>0</td>\n",
              "      <td>0</td>\n",
              "      <td>1</td>\n",
              "      <td>0</td>\n",
              "      <td>...</td>\n",
              "      <td>0</td>\n",
              "      <td>0</td>\n",
              "      <td>0</td>\n",
              "      <td>1</td>\n",
              "      <td>0</td>\n",
              "      <td>1</td>\n",
              "      <td>0</td>\n",
              "      <td>0</td>\n",
              "      <td>0</td>\n",
              "      <td>1</td>\n",
              "    </tr>\n",
              "    <tr>\n",
              "      <th>8</th>\n",
              "      <td>37</td>\n",
              "      <td>140</td>\n",
              "      <td>207</td>\n",
              "      <td>0</td>\n",
              "      <td>130</td>\n",
              "      <td>1.5</td>\n",
              "      <td>1</td>\n",
              "      <td>0</td>\n",
              "      <td>1</td>\n",
              "      <td>1</td>\n",
              "      <td>...</td>\n",
              "      <td>0</td>\n",
              "      <td>0</td>\n",
              "      <td>0</td>\n",
              "      <td>1</td>\n",
              "      <td>0</td>\n",
              "      <td>0</td>\n",
              "      <td>1</td>\n",
              "      <td>0</td>\n",
              "      <td>1</td>\n",
              "      <td>0</td>\n",
              "    </tr>\n",
              "    <tr>\n",
              "      <th>9</th>\n",
              "      <td>48</td>\n",
              "      <td>120</td>\n",
              "      <td>284</td>\n",
              "      <td>0</td>\n",
              "      <td>120</td>\n",
              "      <td>0.0</td>\n",
              "      <td>0</td>\n",
              "      <td>1</td>\n",
              "      <td>0</td>\n",
              "      <td>0</td>\n",
              "      <td>...</td>\n",
              "      <td>0</td>\n",
              "      <td>0</td>\n",
              "      <td>0</td>\n",
              "      <td>1</td>\n",
              "      <td>0</td>\n",
              "      <td>1</td>\n",
              "      <td>0</td>\n",
              "      <td>0</td>\n",
              "      <td>0</td>\n",
              "      <td>1</td>\n",
              "    </tr>\n",
              "  </tbody>\n",
              "</table>\n",
              "<p>10 rows × 21 columns</p>\n",
              "</div>\n",
              "      <button class=\"colab-df-convert\" onclick=\"convertToInteractive('df-e7d14951-cd11-4089-866e-92a973b7ea67')\"\n",
              "              title=\"Convert this dataframe to an interactive table.\"\n",
              "              style=\"display:none;\">\n",
              "        \n",
              "  <svg xmlns=\"http://www.w3.org/2000/svg\" height=\"24px\"viewBox=\"0 0 24 24\"\n",
              "       width=\"24px\">\n",
              "    <path d=\"M0 0h24v24H0V0z\" fill=\"none\"/>\n",
              "    <path d=\"M18.56 5.44l.94 2.06.94-2.06 2.06-.94-2.06-.94-.94-2.06-.94 2.06-2.06.94zm-11 1L8.5 8.5l.94-2.06 2.06-.94-2.06-.94L8.5 2.5l-.94 2.06-2.06.94zm10 10l.94 2.06.94-2.06 2.06-.94-2.06-.94-.94-2.06-.94 2.06-2.06.94z\"/><path d=\"M17.41 7.96l-1.37-1.37c-.4-.4-.92-.59-1.43-.59-.52 0-1.04.2-1.43.59L10.3 9.45l-7.72 7.72c-.78.78-.78 2.05 0 2.83L4 21.41c.39.39.9.59 1.41.59.51 0 1.02-.2 1.41-.59l7.78-7.78 2.81-2.81c.8-.78.8-2.07 0-2.86zM5.41 20L4 18.59l7.72-7.72 1.47 1.35L5.41 20z\"/>\n",
              "  </svg>\n",
              "      </button>\n",
              "      \n",
              "  <style>\n",
              "    .colab-df-container {\n",
              "      display:flex;\n",
              "      flex-wrap:wrap;\n",
              "      gap: 12px;\n",
              "    }\n",
              "\n",
              "    .colab-df-convert {\n",
              "      background-color: #E8F0FE;\n",
              "      border: none;\n",
              "      border-radius: 50%;\n",
              "      cursor: pointer;\n",
              "      display: none;\n",
              "      fill: #1967D2;\n",
              "      height: 32px;\n",
              "      padding: 0 0 0 0;\n",
              "      width: 32px;\n",
              "    }\n",
              "\n",
              "    .colab-df-convert:hover {\n",
              "      background-color: #E2EBFA;\n",
              "      box-shadow: 0px 1px 2px rgba(60, 64, 67, 0.3), 0px 1px 3px 1px rgba(60, 64, 67, 0.15);\n",
              "      fill: #174EA6;\n",
              "    }\n",
              "\n",
              "    [theme=dark] .colab-df-convert {\n",
              "      background-color: #3B4455;\n",
              "      fill: #D2E3FC;\n",
              "    }\n",
              "\n",
              "    [theme=dark] .colab-df-convert:hover {\n",
              "      background-color: #434B5C;\n",
              "      box-shadow: 0px 1px 3px 1px rgba(0, 0, 0, 0.15);\n",
              "      filter: drop-shadow(0px 1px 2px rgba(0, 0, 0, 0.3));\n",
              "      fill: #FFFFFF;\n",
              "    }\n",
              "  </style>\n",
              "\n",
              "      <script>\n",
              "        const buttonEl =\n",
              "          document.querySelector('#df-e7d14951-cd11-4089-866e-92a973b7ea67 button.colab-df-convert');\n",
              "        buttonEl.style.display =\n",
              "          google.colab.kernel.accessAllowed ? 'block' : 'none';\n",
              "\n",
              "        async function convertToInteractive(key) {\n",
              "          const element = document.querySelector('#df-e7d14951-cd11-4089-866e-92a973b7ea67');\n",
              "          const dataTable =\n",
              "            await google.colab.kernel.invokeFunction('convertToInteractive',\n",
              "                                                     [key], {});\n",
              "          if (!dataTable) return;\n",
              "\n",
              "          const docLinkHtml = 'Like what you see? Visit the ' +\n",
              "            '<a target=\"_blank\" href=https://colab.research.google.com/notebooks/data_table.ipynb>data table notebook</a>'\n",
              "            + ' to learn more about interactive tables.';\n",
              "          element.innerHTML = '';\n",
              "          dataTable['output_type'] = 'display_data';\n",
              "          await google.colab.output.renderOutput(dataTable, element);\n",
              "          const docLink = document.createElement('div');\n",
              "          docLink.innerHTML = docLinkHtml;\n",
              "          element.appendChild(docLink);\n",
              "        }\n",
              "      </script>\n",
              "    </div>\n",
              "  </div>\n",
              "  "
            ]
          },
          "metadata": {},
          "execution_count": 169
        }
      ]
    }
  ]
}